{
 "cells": [
  {
   "cell_type": "markdown",
   "metadata": {},
   "source": [
    "程式錯誤(error)，又稱作程式異常(exception)．往往我們在碰到這種情形時，\n",
    "程式將會終止執行，並同時出現錯誤訊息．其中錯誤訊息通常會顯示：Traceback，接著列出異常報告．\n",
    "然而Python提供了功能讓我們捕捉異常和撰寫異常的處理順序，\n",
    "當發生異常而被我們捕捉時，仍會執行異常處理程序，使程式繼續進行．"
   ]
  },
  {
   "cell_type": "code",
   "execution_count": null,
   "metadata": {
    "scrolled": true
   },
   "outputs": [],
   "source": [
    "#1. 除數為0:\n",
    "def division(x, y):\n",
    "    return x / y\n",
    "\n",
    "print(division(12, 4))\n",
    "print(division(10, 0))\n",
    "print(division(8, 2))"
   ]
  },
  {
   "cell_type": "markdown",
   "metadata": {},
   "source": [
    "此處開始介紹如何捕捉異常和設計異常處理程序：發生異常被捕捉時程式會執行異常處理程序，然後跳開異常位置，再繼續往下執行．此時我們所使用的語法為try-except，其格式如下："
   ]
  },
  {
   "cell_type": "code",
   "execution_count": null,
   "metadata": {},
   "outputs": [],
   "source": [
    "#2. 增加異常處理程序:\n",
    "def division(x, y):\n",
    "    try:                               # try - except指令\n",
    "        return x / y                   #預先設想可能會引發異常的指令\n",
    "    except ZeroDivisionError:          #放入異常物件\n",
    "        print(\"除數不可為0\")             #指出異常原因，以便修正\n",
    "\n",
    "print(division(12, 4))\n",
    "print(division(10, 0))\n",
    "print(division(8, 2))"
   ]
  },
  {
   "cell_type": "code",
   "execution_count": null,
   "metadata": {},
   "outputs": [],
   "source": [
    "#3. 字元呼叫除法運算:\n",
    "def division(x, y):\n",
    "    try:\n",
    "        return x / y\n",
    "    except ZeroDivisionError:\n",
    "        print(\"除數不可為0\")\n",
    "\n",
    "print(division(12, 4))\n",
    "print(division('a', 'b'))\n",
    "print(division(8, 2))"
   ]
  },
  {
   "cell_type": "code",
   "execution_count": null,
   "metadata": {},
   "outputs": [],
   "source": [
    "#4. try-except-else:\n",
    "def division(x, y):\n",
    "    try:\n",
    "        ans= x / y\n",
    "    except ZeroDivisionError:\n",
    "        print(\"除數不可為0\")\n",
    "    else:                         #如果指令正確就執行此區塊指令\n",
    "        return ans\n",
    "print(division(12, 4))\n",
    "print(division(10, 0))\n",
    "print(division(8, 2))        "
   ]
  },
  {
   "cell_type": "code",
   "execution_count": null,
   "metadata": {},
   "outputs": [],
   "source": [
    "#5. 找不到檔案的錯誤:\n",
    "yc = 'KC_handsome.txt'            #設定欲開啟的檔案\n",
    "try:\n",
    "    with open(yc) as file_Obj:      #用預設mode=r開啟檔案，傳回檔案物件file_Obj\n",
    "        data = file_Obj.read()      #讀取檔案到變數data\n",
    "except FileNotFoundError:\n",
    "    print(\"找不到 %s 檔案\" % yc)\n",
    "else:\n",
    "    print(data)"
   ]
  },
  {
   "cell_type": "code",
   "execution_count": null,
   "metadata": {},
   "outputs": [],
   "source": [
    "#6. 正確檔案:\n",
    "yc = 'KC_DeepSleeping.txt'\n",
    "try:\n",
    "    with open(yc) as file_Obj:\n",
    "        data = file_Obj.read()\n",
    "except FileNotFoundError:\n",
    "    print(\"找不到 %s 檔案\" % yc)\n",
    "else:\n",
    "    print(data)"
   ]
  },
  {
   "cell_type": "code",
   "execution_count": null,
   "metadata": {},
   "outputs": [],
   "source": [
    "#7. 分析文件字數:\n",
    "yc = 'KC_DeepSleeping.txt'\n",
    "try:\n",
    "    with open(yc) as file_Obj:\n",
    "        data = file_Obj.read()\n",
    "except FileNotFoundError:\n",
    "    print(\"找不到 %s 檔案\" % yc)\n",
    "else:\n",
    "    wordList = data.split()                   #將文章轉為串列\n",
    "    print(yc, \"文章的字數為：\", len(wordList))"
   ]
  },
  {
   "cell_type": "code",
   "execution_count": null,
   "metadata": {},
   "outputs": [],
   "source": [
    "#常見的異常物件：\n",
    "#AttributeError:通常只物件沒有這個屬性\n",
    "#FileNotFoundError:找不到open()開啟的檔案\n",
    "#IOError:在輸入或輸出時發生錯誤    \n",
    "#IndexError:索引超出範圍區間\n",
    "#KeyError:在映射中沒有這個鍵\n",
    "#MemoryError:需求記憶體空間超出範圍   \n",
    "#NameError:物件名稱未宣告\n",
    "#SyntaxError:語法錯誤\n",
    "#SystemError:直譯器的系統錯誤\n",
    "#TypeError:資料型別錯誤\n",
    "#ValueError:傳入無效參數\n",
    "#ZeroDivisionError:除數為0\n",
    "#Exception:一般錯誤皆可使用    "
   ]
  },
  {
   "cell_type": "code",
   "execution_count": null,
   "metadata": {},
   "outputs": [],
   "source": [
    "#8. 異常物件設為Exception:\n",
    "def division(x, y):\n",
    "    try:\n",
    "        return x / y\n",
    "    except Exception:\n",
    "        print(\"通用錯誤發生\")\n",
    "print(division(12, 4))\n",
    "print(division(10, 0))\n",
    "print(division('a', 'b'))\n",
    "print(division(8, 2))        "
   ]
  },
  {
   "cell_type": "code",
   "execution_count": null,
   "metadata": {},
   "outputs": [],
   "source": [
    "#9.  捕捉2個異常物件:\n",
    "def division(x, y):\n",
    "    try:\n",
    "        return x / y\n",
    "    except ZeroDivisionError:\n",
    "        print(\"除數不可為0\")\n",
    "    except TypeError:\n",
    "        print(\"使用字元作除法運算造成異常\")\n",
    "\n",
    "print(division(12, 4))\n",
    "print(division(10, 0))\n",
    "print(division('a', 'b'))\n",
    "print(division(8, 2))"
   ]
  },
  {
   "cell_type": "code",
   "execution_count": null,
   "metadata": {},
   "outputs": [],
   "source": [
    "#10. 一個except捕捉多個異常:\n",
    "def division(x, y):\n",
    "    try:\n",
    "        return x / y\n",
    "    except (ZeroDivisionError,TypeError):\n",
    "        print(\"除數不可為0 或 使用字元作除法運算造成異常\") \n",
    "\n",
    "print(division(12, 4))\n",
    "print(division(10, 0))\n",
    "print(division('a', 'b'))\n",
    "print(division(8, 2))"
   ]
  },
  {
   "cell_type": "code",
   "execution_count": null,
   "metadata": {},
   "outputs": [],
   "source": [
    "#11. Python 內建錯誤訊息:\n",
    "def division(x, y):\n",
    "    try:\n",
    "        return x / y\n",
    "    except (ZeroDivisionError,TypeError) as e:\n",
    "        print(e) \n",
    "\n",
    "print(division(12, 4))\n",
    "print(division(10, 0))\n",
    "print(division('a', 'b'))\n",
    "print(division(8, 2))"
   ]
  },
  {
   "cell_type": "code",
   "execution_count": null,
   "metadata": {},
   "outputs": [],
   "source": [
    "#12.一次捕捉所有異常之設計:\n",
    "def division(x, y):\n",
    "    try:\n",
    "        return x / y\n",
    "    except :\n",
    "        print(\"異常發生\") \n",
    "\n",
    "print(division(12, 4))\n",
    "print(division(10, 0))\n",
    "print(division('a', 'b'))\n",
    "print(division(8, 2))\n",
    "print(division(11, 4))\n",
    "print(division(7, 0))\n",
    "print(division('c', 'd'))"
   ]
  },
  {
   "cell_type": "markdown",
   "metadata": {},
   "source": [
    "前面所介紹之異常為Python直譯器發現異常時，其自行丟出異常物件，若我們不處理程式就終止執行．\n",
    "若使用try- except處理程式可以在異常中回覆執行．\n",
    "現在要探討若我們設計程式時發生某些狀況，我們將它定義為異常然後丟出訊息，此時語法如下："
   ]
  },
  {
   "cell_type": "code",
   "execution_count": null,
   "metadata": {},
   "outputs": [],
   "source": [
    "#13. Password:\n",
    "def PassWord(pwd):\n",
    "    \"\"\"檢查密碼長度是否為5-8個字元\"\"\"\n",
    "    pwdlen = len(pwd)                       #密碼長度\n",
    "    if pwdlen < 5:                          #密碼長度不足\n",
    "        raise Exception('密碼長度不足')       #呼叫Exception ,'密碼長度不足'是傳遞錯誤訊息                                                   \n",
    "    if pwdlen > 8:                          #密碼長度過長\n",
    "        raise Exception('密碼長度過長')       \n",
    "    print('密碼長度正確')\n",
    "\n",
    "for pwd in ('ycbestlin' , 'KCDS' , 'peter' , 'Monday'):    #測試系列密碼值\n",
    "    try:\n",
    "        PassWord(pwd)\n",
    "    except Exception as error:\n",
    "            print(\"密碼長度檢查異常發生\" , str(error))\n"
   ]
  },
  {
   "cell_type": "code",
   "execution_count": null,
   "metadata": {},
   "outputs": [],
   "source": [
    "#14. Traceback-Password:\n",
    "import traceback\n",
    "\n",
    "def PassWord(pwd):\n",
    "    \"\"\"檢查密碼長度是否為5-8個字元\"\"\"\n",
    "    pwdlen = len(pwd)\n",
    "    if pwdlen < 5:\n",
    "        raise Exception('密碼長度不足')\n",
    "    if pwdlen > 8:\n",
    "        raise Exception('密碼長度過長')\n",
    "    print('密碼長度正確')\n",
    "\n",
    "for pwd in ('ycbestlin' , 'KCDS' , 'peter' , 'Monday'):\n",
    "    try:\n",
    "        PassWord(pwd)\n",
    "    except Exception as error:\n",
    "        errorlog = open('password_test.txt', 'a')\n",
    "        errorlog.write(traceback.format_exc())\n",
    "        errorlog.close()\n",
    "        print(\"將traceback寫入錯誤檔案完成\")\n",
    "        print(\"密碼長度檢查異常發生\" , str(error))\n",
    "\n",
    "\n",
    "        \n"
   ]
  },
  {
   "cell_type": "code",
   "execution_count": null,
   "metadata": {},
   "outputs": [],
   "source": [
    "#15. Traceback-Devision:\n",
    "import traceback\n",
    "    \n",
    "def division(x, y):\n",
    "    try:\n",
    "        return x / y\n",
    "    except :\n",
    "        errorlog = open('devision_test.txt', 'a')\n",
    "        errorlog.write(traceback.format_exc())\n",
    "        errorlog.close()\n",
    "        print(\"將traceback寫入錯誤檔案完成\")\n",
    "        print(\"異常發生\")\n",
    "\n",
    "\n",
    "print(division(12, 4))\n",
    "print(division(10, 0))\n",
    "print(division('a', 'b'))\n",
    "print(division(8, 2))\n",
    "print(division(11, 4))\n",
    "print(division(7, 0))\n",
    "print(division('c', 'd'))"
   ]
  },
  {
   "cell_type": "markdown",
   "metadata": {},
   "source": [
    "finally 這個關鍵字必須放在except和else之後，同時不論是否有異常發生，一定會執行這個finally內的程式碼．\n",
    "這個功能主要是在Python程式和資料庫連接時，輸出連接相關訊息．"
   ]
  },
  {
   "cell_type": "code",
   "execution_count": null,
   "metadata": {},
   "outputs": [],
   "source": [
    "#16. finally:\n",
    "def division(x,y):\n",
    "    try:\n",
    "        return x/y\n",
    "    except:\n",
    "        print(\"異常發生\")\n",
    "    finally:\n",
    "        print(\"階段任務完成\")   #離開函數前先執行此程式碼\n",
    "print(division(12, 4))\n",
    "print(division(10, 0))\n",
    "print(division('a', 'b'))\n",
    "print(division(8, 2))\n",
    "print(division(11, 4))\n",
    "print(division(7, 0))\n",
    "print(division('c', 'd'))        "
   ]
  },
  {
   "cell_type": "markdown",
   "metadata": {},
   "source": [
    "所謂斷言（Assertion），指的是程式進行到某個時間點，斷定其必然是某種狀態，具體而言，也就是斷定該時間點上，某變數必然是某值，或某物件必具擁有何種特性值。"
   ]
  },
  {
   "cell_type": "code",
   "execution_count": null,
   "metadata": {},
   "outputs": [],
   "source": [
    "#17. 銀行提款:\n",
    "class Banks():\n",
    "    \n",
    "    title='E_SUN Bank'\n",
    "    \n",
    "    def __init__(self,name,money):\n",
    "        self.name = name\n",
    "        self.balance = money\n",
    "    \n",
    "    def save_money(self,money):\n",
    "        self.balance += money\n",
    "        print(\"存款\" , money , \"完成\")\n",
    "    \n",
    "    def withdraw_money(self,money):\n",
    "        self.balance -= money\n",
    "        print(\"提款\" , money , \"完成\")\n",
    "        \n",
    "    def get_balance(self):\n",
    "        print(self.name.title(),\"目前餘額: \" , self.balance)\n",
    "    \n",
    "KC_Jiang = Banks('KC', 100)\n",
    "KC_Jiang.get_balance()\n",
    "KC_Jiang.save_money(-500)\n",
    "KC_Jiang.get_balance()\n",
    "KC_Jiang.withdraw_money(700)\n",
    "KC_Jiang.get_balance()\n",
    "\n",
    "\n",
    "    \n",
    "    "
   ]
  },
  {
   "cell_type": "code",
   "execution_count": null,
   "metadata": {},
   "outputs": [],
   "source": [
    "#18. 設計斷言：\n",
    "class Banks():\n",
    "    \n",
    "    title='E_SUN Bank'\n",
    "    \n",
    "    def __init__(self,name,money):\n",
    "        self.name = name\n",
    "        self.balance = money\n",
    "    \n",
    "    def save_money(self,money):\n",
    "        assert money > 0, '存款必須大於0'\n",
    "        self.balance += money\n",
    "        print(\"存款\" , money , \"完成\")\n",
    "    \n",
    "    def withdraw_money(self,money):\n",
    "        assert money > 0, '提款必須大於0'\n",
    "        assert money <= self.balance , '存款不足'\n",
    "        self.balance -= money\n",
    "        print(\"提款\" , money , \"完成\")\n",
    "        \n",
    "    def get_balance(self):\n",
    "        print(self.name.title(),\"目前餘額: \" , self.balance)\n",
    "    \n",
    "KC_Jiang = Banks('KC', 100)\n",
    "KC_Jiang.get_balance()\n",
    "KC_Jiang.save_money(-500)\n",
    "KC_Jiang.get_balance()\n",
    "KC_Jiang.withdraw_money(700)\n",
    "KC_Jiang.get_balance()\n"
   ]
  },
  {
   "cell_type": "markdown",
   "metadata": {},
   "source": [
    "通常在開發 Python 程式時會用 print() 在疑似出錯的地方輸出變數值來進行除錯, 但這種方式有個問題, 就是當程式開發完成後必須將這些除錯用的 print() 刪除, 對小程式而言還不會形成負擔, 但對中大型軟體來說可是個麻煩的大工程."
   ]
  },
  {
   "cell_type": "markdown",
   "metadata": {},
   "source": [
    "Python 內建的 logging 模組可取代 print() 的除錯功能, 開發完成後只要用 logging.disable(50) 指令取消日誌輸出功能即可, 不需刪除日誌指令. 此外, 日誌除了輸出到螢幕顯示外, 還可以輸出到檔案保存, 這是 print() 做不到的. 總之, 使用 logging 功能可以輕易地在程式中輸出自訂訊息, 若執行時部分訊息沒有輸出的話, 表示相關的部分程式碼段被跳過沒有執行."
   ]
  },
  {
   "cell_type": "code",
   "execution_count": null,
   "metadata": {},
   "outputs": [],
   "source": [
    "#19. logging模組:\n",
    "import logging\n",
    "\n",
    "logging.basicConfig(level=logging.DEBUG)\n",
    "logging.debug('logging message, DEBUG')\n",
    "logging.info('logging message, INFO')\n",
    "logging.warning('logging message, WARNING')\n",
    "logging.error('logging message, ERROR')\n",
    "logging.critical('logging message, CRITICAL')"
   ]
  },
  {
   "cell_type": "markdown",
   "metadata": {},
   "source": [
    "logging 模組預先定義了如下 6 種安全等級常數以及對應之日誌輸出函數 (但 logging.NOTSET 無對應之輸出函數), 其中 DEBUG 等級最低也最不重要, 用來輸出除錯訊息; INFO 用來記錄一般事件; WARNING 用來輸出目前無礙程式執行, 但未可能使程式無法執行之潛在警訊; ERROR 用來記錄已經發生之程式錯誤; CRITICAL 等級最高, 用來記錄會使程式停止或當掉的致命性錯誤 :"
   ]
  },
  {
   "cell_type": "code",
   "execution_count": null,
   "metadata": {},
   "outputs": [],
   "source": [
    "import logging\n",
    "print(logging.NOTSET)\n",
    "print(logging.DEBUG)\n",
    "print(logging.INFO)\n",
    "print(logging.WARNING)\n",
    "print(logging.ERROR) \n",
    "print(logging.CRITICAL)"
   ]
  },
  {
   "cell_type": "markdown",
   "metadata": {},
   "source": [
    "呼叫日誌輸出函數 (須傳入自訂訊息) 會依據日誌之安全等級設定來自動決定是否要紀錄或輸出該訊息, logging 模組預設安全等級為 WARNING, 大於或等於 WARNING 等級之訊息才會被記錄, 例如 :"
   ]
  },
  {
   "cell_type": "code",
   "execution_count": null,
   "metadata": {},
   "outputs": [],
   "source": [
    "import logging\n",
    "logging.debug(\"debug message\") \n",
    "#logging.info(\"info message\") \n",
    "#logging.warning(\"warning message\") \n",
    "#logging.error(\"error message\") \n",
    "#logging.critical(\"critical message\")  "
   ]
  },
  {
   "cell_type": "code",
   "execution_count": null,
   "metadata": {},
   "outputs": [],
   "source": [
    "#20. 顯示WARNING及更高等級的輸出:\n",
    "import logging\n",
    "\n",
    "logging.basicConfig(level=logging.WARNING)\n",
    "logging.debug('logging message, DEBUG')\n",
    "logging.info('logging message, INFO')\n",
    "logging.warning('logging message, WARNING')\n",
    "logging.error('logging message, ERROR')\n",
    "logging.critical('logging message, CRITICAL')"
   ]
  },
  {
   "cell_type": "code",
   "execution_count": null,
   "metadata": {},
   "outputs": [],
   "source": [
    "#21. 格式化logging訊息輸出format:\n",
    "import logging\n",
    "\n",
    "logging.basicConfig(level=logging.DEBUG, format='')\n",
    "logging.debug('logging message, DEBUG')\n",
    "logging.info('logging message, INFO')\n",
    "logging.warning('logging message, WARNING')\n",
    "logging.error('logging message, ERROR')\n",
    "logging.critical('logging message, CRITICAL')"
   ]
  },
  {
   "cell_type": "code",
   "execution_count": null,
   "metadata": {},
   "outputs": [],
   "source": [
    "#22. 時間資訊asctime:\n",
    "import logging\n",
    "\n",
    "logging.basicConfig(level=logging.DEBUG, format='%(asctime)s')\n",
    "logging.debug('logging message, DEBUG')\n",
    "logging.info('logging message, INFO')\n",
    "logging.warning('logging message, WARNING')\n",
    "logging.error('logging message, ERROR')\n",
    "logging.critical('logging message, CRITICAL')"
   ]
  },
  {
   "cell_type": "code",
   "execution_count": null,
   "metadata": {},
   "outputs": [],
   "source": [
    "#23.format內的message:\n",
    "import logging\n",
    "\n",
    "logging.basicConfig(level=logging.DEBUG, format='%(asctime)s : %(message)s')\n",
    "logging.debug('logging message, DEBUG')\n",
    "logging.info('logging message, INFO')\n",
    "logging.warning('logging message, WARNING')\n",
    "logging.error('logging message, ERROR')\n",
    "logging.critical('logging message, CRITICAL')"
   ]
  },
  {
   "cell_type": "code",
   "execution_count": null,
   "metadata": {},
   "outputs": [],
   "source": [
    "#24.列出levelname:\n",
    "import logging\n",
    "\n",
    "logging.basicConfig(level=logging.DEBUG, format='%(asctime)s - %(levelname)s : %(message)s')\n",
    "logging.debug('logging message, DEBUG')\n",
    "logging.info('logging message, INFO')\n",
    "logging.warning('logging message, WARNING')\n",
    "logging.error('logging message, ERROR')\n",
    "logging.critical('logging message, CRITICAL')"
   ]
  },
  {
   "cell_type": "code",
   "execution_count": null,
   "metadata": {},
   "outputs": [],
   "source": [
    "#25. 使用logging列出變數變化之應用:\n",
    "import logging\n",
    "\n",
    "logging.basicConfig(level=logging.DEBUG,format='%(asctime)s - %(levelname)s : %(message)s')\n",
    "logging.debug('程式開始')\n",
    "for i in range(5):\n",
    "    logging.debug('目前索引 %s' % i)\n",
    "    logging.debug('程式結束')"
   ]
  },
  {
   "cell_type": "code",
   "execution_count": null,
   "metadata": {},
   "outputs": [],
   "source": [
    "#26. 追蹤factorial數值:\n",
    "import logging\n",
    "\n",
    "logging.basicConfig(level=logging.DEBUG,format='%(asctime)s - %(levelname)s : %(message)s')\n",
    "logging.debug('程式開始')\n",
    "\n",
    "def factorial(n):\n",
    "    logging.debug('factorial %s 計算開始' % n)\n",
    "    ans = 1\n",
    "    for i in range(n + 1):\n",
    "        ans *= i\n",
    "        logging.debug('i = ' +str(i) + ', ans =' + str(ans))\n",
    "    logging.debug('factorial %s 計算結束' % n)  \n",
    "    return ans\n",
    "\n",
    "num=5\n",
    "print(\"factorial(%d) = %d\" % (num, factorial(num)))\n",
    "logging.debug('程式結束')"
   ]
  },
  {
   "cell_type": "code",
   "execution_count": null,
   "metadata": {},
   "outputs": [],
   "source": [
    "#27. 改善#26:\n",
    "import logging\n",
    "\n",
    "logging.basicConfig(level=logging.DEBUG,format='%(asctime)s - %(levelname)s : %(message)s')\n",
    "logging.debug('程式開始')\n",
    "\n",
    "def factorial(n):\n",
    "    logging.debug('factorial %s 計算開始' % n)\n",
    "    ans = 1\n",
    "    for i in range(1,n + 1):\n",
    "        ans *= i\n",
    "        logging.debug('i = ' +str(i) + ', ans =' + str(ans))\n",
    "    logging.debug('factorial %s 計算結束' % n)  \n",
    "    return ans\n",
    "\n",
    "num=5\n",
    "print(\"factorial(%d) = %d\" % (num, factorial(num)))\n",
    "logging.debug('程式結束')"
   ]
  },
  {
   "cell_type": "code",
   "execution_count": null,
   "metadata": {},
   "outputs": [],
   "source": []
  }
 ],
 "metadata": {
  "kernelspec": {
   "display_name": "Python 3",
   "language": "python",
   "name": "python3"
  },
  "language_info": {
   "codemirror_mode": {
    "name": "ipython",
    "version": 3
   },
   "file_extension": ".py",
   "mimetype": "text/x-python",
   "name": "python",
   "nbconvert_exporter": "python",
   "pygments_lexer": "ipython3",
   "version": "3.6.8"
  }
 },
 "nbformat": 4,
 "nbformat_minor": 2
}
