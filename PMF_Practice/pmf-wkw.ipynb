{
 "cells": [
  {
   "cell_type": "code",
   "execution_count": null,
   "metadata": {},
   "outputs": [],
   "source": [
    "#edited by wkw\n",
    "import numpy as np\n",
    "import random\n",
    "import math\n",
    "\n",
    "def SGD(train,test,N,M,lr,D,lambda_1,lambda_2,maxiter)：\n",
    "\n",
    "    U = np.random.normal(0, 0.1, (N, D))\n",
    "    V = np.random.normal(0, 0.1, (M, D))\n",
    "   \n",
    "    for ste in range(maxiter):\n",
    "        los=0.0\n",
    "        for data in train:\n",
    "            u=data[0]\n",
    "            i=data[1]\n",
    "            r=data[2]\n",
    "            \n",
    "            U[u]=U[u]+lr*((r-np.dot(U[u],V[i].T))*V[i]-lambda_1*U[u])\n",
    "            V[i]=V[i]+lr*((r-np.dot(U[u],V[i].T))*U[u]-lambda_2*V[i])\n",
    "        \n",
    "    return U,V"
   ]
  }
 ],
 "metadata": {
  "kernelspec": {
   "display_name": "Python 3",
   "language": "python",
   "name": "python3"
  },
  "language_info": {
   "codemirror_mode": {
    "name": "ipython",
    "version": 3
   },
   "file_extension": ".py",
   "mimetype": "text/x-python",
   "name": "python",
   "nbconvert_exporter": "python",
   "pygments_lexer": "ipython3",
   "version": "3.7.3"
  }
 },
 "nbformat": 4,
 "nbformat_minor": 2
}
