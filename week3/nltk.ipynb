{
 "cells": [
  {
   "cell_type": "code",
   "execution_count": 6,
   "metadata": {},
   "outputs": [
    {
     "name": "stdout",
     "output_type": "stream",
     "text": [
      "showing info https://raw.githubusercontent.com/nltk/nltk_data/gh-pages/index.xml\n"
     ]
    },
    {
     "data": {
      "text/plain": [
       "True"
      ]
     },
     "execution_count": 6,
     "metadata": {},
     "output_type": "execute_result"
    }
   ],
   "source": [
    "import nltk\n",
    "nltk.download()"
   ]
  },
  {
   "cell_type": "code",
   "execution_count": 3,
   "metadata": {},
   "outputs": [
    {
     "name": "stderr",
     "output_type": "stream",
     "text": [
      "[nltk_data] Downloading package wordnet to\n",
      "[nltk_data]     C:\\Users\\Kevin\\AppData\\Roaming\\nltk_data...\n",
      "[nltk_data]   Unzipping corpora\\wordnet.zip.\n"
     ]
    },
    {
     "data": {
      "text/plain": [
       "True"
      ]
     },
     "execution_count": 3,
     "metadata": {},
     "output_type": "execute_result"
    }
   ],
   "source": [
    "nltk.download('wordnet')"
   ]
  },
  {
   "cell_type": "code",
   "execution_count": 4,
   "metadata": {},
   "outputs": [
    {
     "name": "stderr",
     "output_type": "stream",
     "text": [
      "[nltk_data] Downloading package punkt to\n",
      "[nltk_data]     C:\\Users\\Kevin\\AppData\\Roaming\\nltk_data...\n",
      "[nltk_data]   Unzipping tokenizers\\punkt.zip.\n"
     ]
    },
    {
     "data": {
      "text/plain": [
       "True"
      ]
     },
     "execution_count": 4,
     "metadata": {},
     "output_type": "execute_result"
    }
   ],
   "source": [
    "nltk.download('punkt')"
   ]
  },
  {
   "cell_type": "code",
   "execution_count": 5,
   "metadata": {},
   "outputs": [
    {
     "name": "stderr",
     "output_type": "stream",
     "text": [
      "[nltk_data] Downloading package stopwords to\n",
      "[nltk_data]     C:\\Users\\Kevin\\AppData\\Roaming\\nltk_data...\n",
      "[nltk_data]   Unzipping corpora\\stopwords.zip.\n"
     ]
    },
    {
     "data": {
      "text/plain": [
       "True"
      ]
     },
     "execution_count": 5,
     "metadata": {},
     "output_type": "execute_result"
    }
   ],
   "source": [
    "nltk.download('stopwords')"
   ]
  },
  {
   "cell_type": "markdown",
   "metadata": {},
   "source": [
    "## tokenize \n",
    "split artricle into sen and words "
   ]
  },
  {
   "cell_type": "code",
   "execution_count": 8,
   "metadata": {},
   "outputs": [
    {
     "name": "stdout",
     "output_type": "stream",
     "text": [
      "['Hello World.', 'This is NLTK']\n",
      "['Hello', 'World', '.', 'This', 'is', 'NLTK']\n"
     ]
    }
   ],
   "source": [
    "from nltk.tokenize import word_tokenize, sent_tokenize\n",
    "text = 'Hello World. This is NLTK'\n",
    "print(sent_tokenize(text))\n",
    "print(word_tokenize(text))"
   ]
  },
  {
   "cell_type": "markdown",
   "metadata": {},
   "source": [
    "## nltk.text.Text()\n",
    "useful, common and basic class in nltk "
   ]
  },
  {
   "cell_type": "code",
   "execution_count": 14,
   "metadata": {},
   "outputs": [
    {
     "name": "stdout",
     "output_type": "stream",
     "text": [
      "<Text: The Girl with the Dragon Tattoo Larsson Stieg...>\n",
      "<class 'nltk.text.Text'>\n"
     ]
    }
   ],
   "source": [
    "raw=open('dragon.txt').read() #讀入《龍紋身的女孩》這本小說\n",
    "text = nltk.text.Text(word_tokenize(raw)) #建構 nltk.text.Text()物件\n",
    "\n",
    "print(text)\n",
    "print(type(text))"
   ]
  },
  {
   "cell_type": "code",
   "execution_count": 15,
   "metadata": {},
   "outputs": [
    {
     "name": "stdout",
     "output_type": "stream",
     "text": [
      "Displaying 12 of 12 matches:\n",
      "day of November . They were always beautiful and for the most part rare flowers\n",
      "ave imagined . They had sailed the beautiful but not very dramatic route from B\n",
      " guy and the upper-class girl in a beautiful union . Erika came from old money \n",
      "photograph of a dark-haired girl , beautiful but with a mischievous look ; a yo\n",
      " black window frames . It was in a beautiful situation , and Blomkvist could se\n",
      "ears , but in 1919 he met a wildly beautiful woman half his age , and he fell h\n",
      "an ageing vampire〞still strikingly beautiful but as venomous as a snake . Isabe\n",
      "ng page in Harriet＊s date book , a beautiful bound book she had been given as a\n",
      " to you ? § She nodded . ※You have beautiful eyes , § he said . ※You have nice \n",
      "he western end stood an uncommonly beautiful wooden church . Blomkvist noted th\n",
      "inner , but she had grown into the beautiful woman that her confirmation portra\n",
      ", and I was totally unprepared . A beautiful woman , elegant clothes and a cool\n"
     ]
    }
   ],
   "source": [
    "text.concordance('beautiful') #某單字的上下文"
   ]
  },
  {
   "cell_type": "code",
   "execution_count": 16,
   "metadata": {},
   "outputs": [
    {
     "name": "stdout",
     "output_type": "stream",
     "text": [
      "first young nice kitchen case world least report other so impossible\n",
      "antipodes story drama police murder matter pretty verdict morning\n"
     ]
    }
   ],
   "source": [
    "text.similar('beautiful') #某單字的同義詞"
   ]
  },
  {
   "cell_type": "code",
   "execution_count": 17,
   "metadata": {
    "scrolled": true
   },
   "outputs": [
    {
     "name": "stdout",
     "output_type": "stream",
     "text": [
      "Hedeby Island; Martin Vanger; Blomkvist said; Vanger Corporation; old\n",
      "man; Milton Security; don＊t know; Henrik Vanger; front door; years\n",
      "ago; Harriet Vanger; don＊t want; first time; Children＊s Day; Cecilia\n",
      "Vanger; Hans-Erik Wennerstr; long time; Irene Nesser; Vanger＊s house;\n",
      "Martin Vanger＊s\n"
     ]
    }
   ],
   "source": [
    "text.collocations() #最常見的兩字搭配"
   ]
  },
  {
   "cell_type": "code",
   "execution_count": 35,
   "metadata": {},
   "outputs": [
    {
     "data": {
      "text/plain": [
       "83"
      ]
     },
     "execution_count": 35,
     "metadata": {},
     "output_type": "execute_result"
    }
   ],
   "source": [
    "text.count('girl') #某個詞出現了幾次"
   ]
  },
  {
   "cell_type": "code",
   "execution_count": 19,
   "metadata": {},
   "outputs": [
    {
     "data": {
      "text/plain": [
       "FreqDist({'.': 10243, 'the': 8186, ',': 6427, 'to': 4523, 'a': 4200, 'and': 4036, 'was': 3137, 'of': 3075, 'in': 2944, 'that': 2393, ...})"
      ]
     },
     "execution_count": 19,
     "metadata": {},
     "output_type": "execute_result"
    }
   ],
   "source": [
    "word_dict = text.vocab() #看各單字出現了幾次，以 dictionary 的形式返回\n",
    "word_dict"
   ]
  },
  {
   "cell_type": "code",
   "execution_count": 26,
   "metadata": {},
   "outputs": [
    {
     "data": {
      "text/plain": [
       "FreqDist({'.': 10243, 'the': 8186, ',': 6427, 'to': 4523, 'a': 4200, 'and': 4036, 'was': 3137, 'of': 3075, 'in': 2944, 'that': 2393, ...})"
      ]
     },
     "execution_count": 26,
     "metadata": {},
     "output_type": "execute_result"
    }
   ],
   "source": [
    "from nltk.probability import FreqDist\n",
    "fdict = FreqDist(text)\n",
    "fdict"
   ]
  },
  {
   "cell_type": "code",
   "execution_count": 31,
   "metadata": {},
   "outputs": [
    {
     "data": {
      "image/png": "[encoded data removed]",
      "text/plain": [
       "<Figure size 432x288 with 1 Axes>"
      ]
     },
     "metadata": {},
     "output_type": "display_data"
    }
   ],
   "source": [
    "fdict.plot(30)"
   ]
  },
  {
   "cell_type": "code",
   "execution_count": 32,
   "metadata": {},
   "outputs": [
    {
     "data": {
      "image/png": "[encoded data removed]",
      "text/plain": [
       "<Figure size 432x288 with 1 Axes>"
      ]
     },
     "metadata": {},
     "output_type": "display_data"
    }
   ],
   "source": [
    "import matplotlib.pyplot as plt\n",
    "%matplotlib inline\n",
    "text.dispersion_plot(['the','year','beautiful'])"
   ]
  },
  {
   "cell_type": "markdown",
   "metadata": {},
   "source": [
    "## tagset \n",
    "詞性表 [universal]() [Penn TreeBank]() [brown]() [claws5]()\n",
    "\n",
    "## tagging\n",
    "詞性標註\n",
    "\n",
    "pos_tag  [訓練](https://stackoverflow.com/questions/15586721/wordnet-lemmatization-and-pos-tagging-in-python)\n",
    "\n",
    "[buffalo sentence](https://en.wikipedia.org/wiki/Buffalo_buffalo_Buffalo_buffalo_buffalo_buffalo_Buffalo_buffalo)"
   ]
  },
  {
   "cell_type": "code",
   "execution_count": 38,
   "metadata": {
    "scrolled": true
   },
   "outputs": [
    {
     "name": "stdout",
     "output_type": "stream",
     "text": [
      "[('I', 'PRON'), ('dream', 'VERB'), ('a', 'DET'), ('dream', 'NOUN'), ('.', '.')]\n",
      "[('I', 'PRP'), ('dream', 'VBP'), ('a', 'DT'), ('dream', 'NN'), ('.', '.')]\n"
     ]
    }
   ],
   "source": [
    "from nltk.tag import pos_tag, pos_tag_sents\n",
    "\n",
    "text = \"I dream a dream.\"\n",
    "print(pos_tag(word_tokenize(text), tagset='universal'))\n",
    "\n",
    "# Notice first \"dream\" is tagged with 'Verb' while 2nd \"dream\" tagged with 'Noun',\n",
    "# 'pos_tag' tag each word by trained model,  \n",
    "\n",
    "# tagging with different tagset, default penn\n",
    "print(pos_tag(word_tokenize(text)))"
   ]
  },
  {
   "cell_type": "code",
   "execution_count": 35,
   "metadata": {},
   "outputs": [
    {
     "name": "stdout",
     "output_type": "stream",
     "text": [
      "$: dollar\n",
      "    $ -$ --$ A$ C$ HK$ M$ NZ$ S$ U.S.$ US$\n",
      "'': closing quotation mark\n",
      "    ' ''\n",
      "(: opening parenthesis\n",
      "    ( [ {\n",
      "): closing parenthesis\n",
      "    ) ] }\n",
      ",: comma\n",
      "    ,\n",
      "--: dash\n",
      "    --\n",
      ".: sentence terminator\n",
      "    . ! ?\n",
      ":: colon or ellipsis\n",
      "    : ; ...\n",
      "CC: conjunction, coordinating\n",
      "    & 'n and both but either et for less minus neither nor or plus so\n",
      "    therefore times v. versus vs. whether yet\n",
      "CD: numeral, cardinal\n",
      "    mid-1890 nine-thirty forty-two one-tenth ten million 0.5 one forty-\n",
      "    seven 1987 twenty '79 zero two 78-degrees eighty-four IX '60s .025\n",
      "    fifteen 271,124 dozen quintillion DM2,000 ...\n",
      "DT: determiner\n",
      "    all an another any both del each either every half la many much nary\n",
      "    neither no some such that the them these this those\n",
      "EX: existential there\n",
      "    there\n",
      "FW: foreign word\n",
      "    gemeinschaft hund ich jeux habeas Haementeria Herr K'ang-si vous\n",
      "    lutihaw alai je jour objets salutaris fille quibusdam pas trop Monte\n",
      "    terram fiche oui corporis ...\n",
      "IN: preposition or conjunction, subordinating\n",
      "    astride among uppon whether out inside pro despite on by throughout\n",
      "    below within for towards near behind atop around if like until below\n",
      "    next into if beside ...\n",
      "JJ: adjective or numeral, ordinal\n",
      "    third ill-mannered pre-war regrettable oiled calamitous first separable\n",
      "    ectoplasmic battery-powered participatory fourth still-to-be-named\n",
      "    multilingual multi-disciplinary ...\n",
      "JJR: adjective, comparative\n",
      "    bleaker braver breezier briefer brighter brisker broader bumper busier\n",
      "    calmer cheaper choosier cleaner clearer closer colder commoner costlier\n",
      "    cozier creamier crunchier cuter ...\n",
      "JJS: adjective, superlative\n",
      "    calmest cheapest choicest classiest cleanest clearest closest commonest\n",
      "    corniest costliest crassest creepiest crudest cutest darkest deadliest\n",
      "    dearest deepest densest dinkiest ...\n",
      "LS: list item marker\n",
      "    A A. B B. C C. D E F First G H I J K One SP-44001 SP-44002 SP-44005\n",
      "    SP-44007 Second Third Three Two * a b c d first five four one six three\n",
      "    two\n",
      "MD: modal auxiliary\n",
      "    can cannot could couldn't dare may might must need ought shall should\n",
      "    shouldn't will would\n",
      "NN: noun, common, singular or mass\n",
      "    common-carrier cabbage knuckle-duster Casino afghan shed thermostat\n",
      "    investment slide humour falloff slick wind hyena override subhumanity\n",
      "    machinist ...\n",
      "NNP: noun, proper, singular\n",
      "    Motown Venneboerger Czestochwa Ranzer Conchita Trumplane Christos\n",
      "    Oceanside Escobar Kreisler Sawyer Cougar Yvette Ervin ODI Darryl CTCA\n",
      "    Shannon A.K.C. Meltex Liverpool ...\n",
      "NNPS: noun, proper, plural\n",
      "    Americans Americas Amharas Amityvilles Amusements Anarcho-Syndicalists\n",
      "    Andalusians Andes Andruses Angels Animals Anthony Antilles Antiques\n",
      "    Apache Apaches Apocrypha ...\n",
      "NNS: noun, common, plural\n",
      "    undergraduates scotches bric-a-brac products bodyguards facets coasts\n",
      "    divestitures storehouses designs clubs fragrances averages\n",
      "    subjectivists apprehensions muses factory-jobs ...\n",
      "PDT: pre-determiner\n",
      "    all both half many quite such sure this\n",
      "POS: genitive marker\n",
      "    ' 's\n",
      "PRP: pronoun, personal\n",
      "    hers herself him himself hisself it itself me myself one oneself ours\n",
      "    ourselves ownself self she thee theirs them themselves they thou thy us\n",
      "PRP$: pronoun, possessive\n",
      "    her his mine my our ours their thy your\n",
      "RB: adverb\n",
      "    occasionally unabatingly maddeningly adventurously professedly\n",
      "    stirringly prominently technologically magisterially predominately\n",
      "    swiftly fiscally pitilessly ...\n",
      "RBR: adverb, comparative\n",
      "    further gloomier grander graver greater grimmer harder harsher\n",
      "    healthier heavier higher however larger later leaner lengthier less-\n",
      "    perfectly lesser lonelier longer louder lower more ...\n",
      "RBS: adverb, superlative\n",
      "    best biggest bluntest earliest farthest first furthest hardest\n",
      "    heartiest highest largest least less most nearest second tightest worst\n",
      "RP: particle\n",
      "    aboard about across along apart around aside at away back before behind\n",
      "    by crop down ever fast for forth from go high i.e. in into just later\n",
      "    low more off on open out over per pie raising start teeth that through\n",
      "    under unto up up-pp upon whole with you\n",
      "SYM: symbol\n",
      "    % & ' '' ''. ) ). * + ,. < = > @ A[fj] U.S U.S.S.R * ** ***\n",
      "TO: \"to\" as preposition or infinitive marker\n",
      "    to\n",
      "UH: interjection\n",
      "    Goodbye Goody Gosh Wow Jeepers Jee-sus Hubba Hey Kee-reist Oops amen\n",
      "    huh howdy uh dammit whammo shucks heck anyways whodunnit honey golly\n",
      "    man baby diddle hush sonuvabitch ...\n",
      "VB: verb, base form\n",
      "    ask assemble assess assign assume atone attention avoid bake balkanize\n",
      "    bank begin behold believe bend benefit bevel beware bless boil bomb\n",
      "    boost brace break bring broil brush build ...\n",
      "VBD: verb, past tense\n",
      "    dipped pleaded swiped regummed soaked tidied convened halted registered\n",
      "    cushioned exacted snubbed strode aimed adopted belied figgered\n",
      "    speculated wore appreciated contemplated ...\n",
      "VBG: verb, present participle or gerund\n",
      "    telegraphing stirring focusing angering judging stalling lactating\n",
      "    hankerin' alleging veering capping approaching traveling besieging\n",
      "    encrypting interrupting erasing wincing ...\n",
      "VBN: verb, past participle\n",
      "    multihulled dilapidated aerosolized chaired languished panelized used\n",
      "    experimented flourished imitated reunifed factored condensed sheared\n",
      "    unsettled primed dubbed desired ...\n",
      "VBP: verb, present tense, not 3rd person singular\n",
      "    predominate wrap resort sue twist spill cure lengthen brush terminate\n",
      "    appear tend stray glisten obtain comprise detest tease attract\n",
      "    emphasize mold postpone sever return wag ...\n",
      "VBZ: verb, present tense, 3rd person singular\n",
      "    bases reconstructs marks mixes displeases seals carps weaves snatches\n",
      "    slumps stretches authorizes smolders pictures emerges stockpiles\n",
      "    seduces fizzes uses bolsters slaps speaks pleads ...\n",
      "WDT: WH-determiner\n",
      "    that what whatever which whichever\n",
      "WP: WH-pronoun\n",
      "    that what whatever whatsoever which who whom whosoever\n",
      "WP$: WH-pronoun, possessive\n",
      "    whose\n",
      "WRB: Wh-adverb\n",
      "    how however whence whenever where whereby whereever wherein whereof why\n",
      "``: opening quotation mark\n",
      "    ` ``\n"
     ]
    }
   ],
   "source": [
    "nltk.help.upenn_tagset()"
   ]
  },
  {
   "cell_type": "code",
   "execution_count": 50,
   "metadata": {},
   "outputs": [
    {
     "name": "stdout",
     "output_type": "stream",
     "text": [
      "[('Buffalo', 'NOUN'), ('buffalo', 'NOUN'), ('Buffalo', 'NOUN'), ('buffalo', 'NOUN'), ('buffalo', 'NOUN'), ('buffalo', 'NOUN'), ('Buffalo', 'NOUN'), ('buffalo', 'NOUN')]\n",
      "[('Buffalo', 'NNP'), ('buffalo', 'NN'), ('Buffalo', 'NNP'), ('buffalo', 'NN'), ('buffalo', 'NN'), ('buffalo', 'NN'), ('Buffalo', 'NNP'), ('buffalo', 'NN')]\n"
     ]
    }
   ],
   "source": [
    "text = 'Buffalo buffalo Buffalo buffalo buffalo buffalo Buffalo buffalo'\n",
    "print(pos_tag(word_tokenize(text),tagset='universal'))\n",
    "print(pos_tag(word_tokenize(text)))"
   ]
  },
  {
   "cell_type": "markdown",
   "metadata": {},
   "source": [
    "## regular expression\n",
    "[re python document](https://docs.python.org/3/library/re.html)\n",
    "\n",
    "Some simple rules are used below:\n",
    "\n",
    "- 抓取字元\n",
    "\n",
    "    - <span style=\"background-color:#ecf0f3;font-size:20px\">**.**</span> 任何字元\n",
    "\n",
    "    - <span style=\"background-color:#ecf0f3;font-size:20px\">**|**</span> 或\n",
    "    \n",
    "- 次數\n",
    "    - <span style=\"background-color:#ecf0f3;font-size:20px\">**?**</span> 出現0或1次\n",
    "    \n",
    "    - <span style=\"background-color:#ecf0f3;font-size:20px\">*****</span> 出現0或更多次\n",
    "\n",
    "    - <span style=\"background-color:#ecf0f3;font-size:20px\">**+**</span> 出現1或更多次\n",
    "    \n",
    "## Expamle\n",
    "\n",
    "可以用<span style=\"background-color:#ecf0f3;font-size:15px\">**a***</span>去抓取 <span style=\"background-color:#ecf0f3;font-size:15px\">**a**</span>或是<span style=\"background-color:#ecf0f3;font-size:15px\">**aaaaaa**</span>\n",
    "\n",
    "可以用<span style=\"background-color:#ecf0f3;font-size:15px\">**ab?**</span>去抓取 <span style=\"background-color:#ecf0f3;font-size:15px\">**a**</span>或是<span style=\"background-color:#ecf0f3;font-size:15px\">**ab**</span>\n",
    "\n",
    "可以用<span style=\"background-color:#ecf0f3;font-size:15px\">**JJ.**</span>去抓取 <span style=\"background-color:#ecf0f3;font-size:15px\">**JJR**</span>或是<span style=\"background-color:#ecf0f3;font-size:15px\">**JJS**</span>"
   ]
  },
  {
   "cell_type": "code",
   "execution_count": 7,
   "metadata": {},
   "outputs": [
    {
     "name": "stdout",
     "output_type": "stream",
     "text": [
      "JJ: adjective or numeral, ordinal\n",
      "    third ill-mannered pre-war regrettable oiled calamitous first separable\n",
      "    ectoplasmic battery-powered participatory fourth still-to-be-named\n",
      "    multilingual multi-disciplinary ...\n",
      "JJR: adjective, comparative\n",
      "    bleaker braver breezier briefer brighter brisker broader bumper busier\n",
      "    calmer cheaper choosier cleaner clearer closer colder commoner costlier\n",
      "    cozier creamier crunchier cuter ...\n",
      "JJS: adjective, superlative\n",
      "    calmest cheapest choicest classiest cleanest clearest closest commonest\n",
      "    corniest costliest crassest creepiest crudest cutest darkest deadliest\n",
      "    dearest deepest densest dinkiest ...\n"
     ]
    }
   ],
   "source": [
    "# regular expression 可以用在 nltk 有很多應用\n",
    "# 可以在查詢 upenn pos tag 以 'JJ' 開頭的詞性\n",
    "nltk.help.upenn_tagset('JJ.*')"
   ]
  },
  {
   "cell_type": "markdown",
   "metadata": {},
   "source": [
    "## chunk (方塊)\n",
    "\n",
    "After tagging for each words, you may want to analysis structure of it.\n",
    "\n",
    "Use nltk chunk to merge tagged words into chunks"
   ]
  },
  {
   "cell_type": "code",
   "execution_count": 52,
   "metadata": {},
   "outputs": [],
   "source": [
    "from nltk.chunk import ne_chunk, RegexpChunkParser, RegexpParser\n",
    "# RegexpParser 也是使用 regular expression, 用來抓取詞性組成的 chunk\n",
    "# 用 <...> 來表示一個詞性單位"
   ]
  },
  {
   "cell_type": "code",
   "execution_count": 60,
   "metadata": {},
   "outputs": [
    {
     "name": "stdout",
     "output_type": "stream",
     "text": [
      "(S It/PRP is/VBZ (NP a/DT pig/NN) with/IN (NP big/JJ belly/NN))\n"
     ]
    }
   ],
   "source": [
    "# 先標註詞性\n",
    "text = 'It is a pig with big belly'\n",
    "tagged = pos_tag(word_tokenize(text))\n",
    "\n",
    "# 定義一個文法抓取 NP 名詞片語 \n",
    "# 一個 NP 的組成是 : 0或1 個 <DT(冠詞)> 後面接上 0或多 個 <JJ.?(各種形容詞)> 再接上 <NN(名詞)>\n",
    "# 寫成 Regexp 就是 :     <DT>?<JJ.?>*<NN>\n",
    "grammar = \"NP: {<DT>?<JJ.?>*<NN>}\"\n",
    "\n",
    "NP_parser = nltk.RegexpParser(grammar)\n",
    "result = NP_parser.parse(tagged)\n",
    "print(result)\n",
    "\n",
    "result.draw()\n",
    "# nltk.Tree 的 draw 會用 tkinter 顯示, 會開啟一個新的視窗, 視窗關閉之後才會繼續執行更下面的 code\n",
    "# 所以沒關閉視窗的話, 這格 cell 的狀態會一直在 In [*] "
   ]
  },
  {
   "cell_type": "code",
   "execution_count": 65,
   "metadata": {},
   "outputs": [
    {
     "name": "stdout",
     "output_type": "stream",
     "text": [
      "(S\n",
      "  (sentence It/PRP is/VBZ (NP a/DT pig/NN))\n",
      "  with/IN\n",
      "  (NP big/JJ belly/NN))\n"
     ]
    }
   ],
   "source": [
    "grammar2 = \"sentence:{<PRP><VB.?><N.*>}\"\n",
    "result2 = RegexpParser(grammar2).parse(result)\n",
    "print(result2)\n",
    "result2.draw()"
   ]
  },
  {
   "cell_type": "markdown",
   "metadata": {},
   "source": [
    "## Logic & Prove"
   ]
  },
  {
   "cell_type": "code",
   "execution_count": 88,
   "metadata": {},
   "outputs": [],
   "source": [
    "from nltk.sem import logic\n",
    "from nltk.inference import ResolutionProver"
   ]
  },
  {
   "cell_type": "code",
   "execution_count": 89,
   "metadata": {},
   "outputs": [
    {
     "name": "stdout",
     "output_type": "stream",
     "text": [
      "negation       \t-\n",
      "conjunction    \t&\n",
      "disjunction    \t|\n",
      "implication    \t->\n",
      "equivalence    \t<->\n",
      "existential    \texists\n",
      "universal      \tall\n",
      "lambda         \t\\\n",
      "equality       \t=\n",
      "inequality     \t!=\n"
     ]
    },
    {
     "data": {
      "text/plain": [
       "(None, None, None)"
      ]
     },
     "execution_count": 89,
     "metadata": {},
     "output_type": "execute_result"
    }
   ],
   "source": [
    "logic.boolean_ops(), logic.binding_ops(), logic.equality_preds()"
   ]
  },
  {
   "cell_type": "markdown",
   "metadata": {},
   "source": [
    "**Propositions**\n",
    "\n",
    "- statement 1 :  $KC\\;is\\;87$\n",
    "\n",
    "- statement 2 :  $\\forall x,\\,x\\;is\\;stat\\to\\neg(x\\;is\\;87)$\n",
    "\n",
    "**Find whether following conclusion is True**\n",
    "\n",
    "- conclusion 1 : $KC\\;is\\;stat $\n",
    "\n",
    "- conclusion 2 : $\\neg(KC\\;is\\;stat)$\n"
   ]
  },
  {
   "cell_type": "code",
   "execution_count": 94,
   "metadata": {},
   "outputs": [
    {
     "name": "stdout",
     "output_type": "stream",
     "text": [
      "stat(KC) False\n",
      "-stat(KC) True\n"
     ]
    }
   ],
   "source": [
    "LGP = logic.LogicParser()\n",
    "prover = ResolutionProver()\n",
    "\n",
    "statement1 = LGP.parse('87(KC)')\n",
    "statement2 = LGP.parse('all x. stat(x) -> !87(x)')\n",
    "con1 = LGP.parse('stat(KC)')\n",
    "con2 = LGP.parse('-stat(KC)')\n",
    "# con2 = con1.negate()\n",
    "\n",
    "print(con1, prover.prove(con1, [statement1, statement2]))\n",
    "print(con2, prover.prove(con2, [statement1, statement2]))"
   ]
  }
 ],
 "metadata": {
  "kernelspec": {
   "display_name": "Python 3",
   "language": "python",
   "name": "python3"
  },
  "language_info": {
   "codemirror_mode": {
    "name": "ipython",
    "version": 3
   },
   "file_extension": ".py",
   "mimetype": "text/x-python",
   "name": "python",
   "nbconvert_exporter": "python",
   "pygments_lexer": "ipython3",
   "version": "3.6.2"
  }
 },
 "nbformat": 4,
 "nbformat_minor": 2
}
