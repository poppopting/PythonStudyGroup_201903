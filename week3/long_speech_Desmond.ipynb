{
 "cells": [
  {
   "cell_type": "markdown",
   "metadata": {
    "slideshow": {
     "slide_type": "slide"
    }
   },
   "source": [
    "# 一. Python特色 \n",
    "- 縮排結構\n",
    "- 不須宣告變數類型\n",
    "- 序列操作\n",
    "    - 儲存型態\n",
    "        - 容器 : 儲存不同型態項目 ex. list, tuple...\n",
    "        - 一般 : 只能儲存最基本資料如數字、字元 ex. str, bytes\n",
    "    - 序列可變與否\n",
    "        - 可變 ex. list\n",
    "        - 不可變 ex. tuple\n",
    "- 物件導向語言\n",
    "\n"
   ]
  },
  {
   "cell_type": "markdown",
   "metadata": {
    "slideshow": {
     "slide_type": "subslide"
    }
   },
   "source": [
    "### 靜態型別 : 對每個變數明確宣告變數類型    ex.C, JAVA\n",
    "\n",
    "### 動態型別 : 彈性的指定任意型態資料給變數 ex.Python"
   ]
  },
  {
   "cell_type": "code",
   "execution_count": 1,
   "metadata": {
    "slideshow": {
     "slide_type": "-"
    }
   },
   "outputs": [
    {
     "name": "stdout",
     "output_type": "stream",
     "text": [
      "Bob\n",
      "<class 'str'>\n"
     ]
    }
   ],
   "source": [
    "x = 'Bob'\n",
    "print(x)\n",
    "print(type(x))"
   ]
  },
  {
   "cell_type": "code",
   "execution_count": 1,
   "metadata": {
    "slideshow": {
     "slide_type": "subslide"
    }
   },
   "outputs": [
    {
     "data": {
      "text/plain": [
       "[2, 'NCCU', True]"
      ]
     },
     "execution_count": 1,
     "metadata": {},
     "output_type": "execute_result"
    }
   ],
   "source": [
    "my_list = [2,'NCCU',True]\n",
    "my_list"
   ]
  },
  {
   "cell_type": "markdown",
   "metadata": {
    "slideshow": {
     "slide_type": "subslide"
    }
   },
   "source": [
    "### integer包含4個部分\n",
    "- ob_refcnt，參考計數，協助python處理記憶體的解除和配置\n",
    "- ob_type，變數型態編碼\n",
    "- ob_size，指出成員大小\n",
    "- ob_digit，儲存Python變數中表示的實際數值"
   ]
  },
  {
   "cell_type": "markdown",
   "metadata": {
    "slideshow": {
     "slide_type": "-"
    }
   },
   "source": [
    "List優點為彈性，Array固定型態陣列缺乏彈性，但儲存和操作資料有效率"
   ]
  },
  {
   "cell_type": "markdown",
   "metadata": {
    "slideshow": {
     "slide_type": "slide"
    }
   },
   "source": [
    "# 二. list, tuple\n",
    "### 賦值 : 盒子vs標籤"
   ]
  },
  {
   "cell_type": "code",
   "execution_count": 2,
   "metadata": {
    "slideshow": {
     "slide_type": "-"
    }
   },
   "outputs": [],
   "source": [
    "a = [1,2,3]\n",
    "b = a\n",
    "a.append(4)\n",
    "# http://www.pythontutor.com/"
   ]
  },
  {
   "cell_type": "code",
   "execution_count": 3,
   "metadata": {
    "slideshow": {
     "slide_type": "-"
    }
   },
   "outputs": [
    {
     "data": {
      "text/plain": [
       "[1, 2, 3, 4]"
      ]
     },
     "execution_count": 3,
     "metadata": {},
     "output_type": "execute_result"
    }
   ],
   "source": [
    "a"
   ]
  },
  {
   "cell_type": "code",
   "execution_count": 4,
   "metadata": {
    "slideshow": {
     "slide_type": "subslide"
    }
   },
   "outputs": [
    {
     "data": {
      "text/plain": [
       "[1, 2, 3, 4]"
      ]
     },
     "execution_count": 4,
     "metadata": {},
     "output_type": "execute_result"
    }
   ],
   "source": [
    "b"
   ]
  },
  {
   "cell_type": "code",
   "execution_count": 5,
   "metadata": {
    "slideshow": {
     "slide_type": "subslide"
    }
   },
   "outputs": [
    {
     "name": "stdout",
     "output_type": "stream",
     "text": [
      "True\n",
      "True\n"
     ]
    }
   ],
   "source": [
    "print(a==b)   #比較\"值\"\n",
    "print(a is b) #比較\"身分\""
   ]
  },
  {
   "cell_type": "code",
   "execution_count": 6,
   "metadata": {
    "slideshow": {
     "slide_type": "-"
    }
   },
   "outputs": [
    {
     "name": "stdout",
     "output_type": "stream",
     "text": [
      "2409520905672\n",
      "2409520905672\n"
     ]
    }
   ],
   "source": [
    "print(id(a))\n",
    "print(id(b))"
   ]
  },
  {
   "cell_type": "markdown",
   "metadata": {
    "slideshow": {
     "slide_type": "subslide"
    }
   },
   "source": [
    "### tuple的不可變性\n",
    "不可變性質指的是資料結構的物理內容\n"
   ]
  },
  {
   "cell_type": "code",
   "execution_count": 7,
   "metadata": {
    "slideshow": {
     "slide_type": "-"
    }
   },
   "outputs": [
    {
     "name": "stdout",
     "output_type": "stream",
     "text": [
      "True\n",
      "False\n"
     ]
    }
   ],
   "source": [
    "t1 = (1,2,[3,4])\n",
    "t2 = (1,2,[3,4])\n",
    "print(t1==t2)    \n",
    "print(t1 is t2)"
   ]
  },
  {
   "cell_type": "code",
   "execution_count": 8,
   "metadata": {
    "slideshow": {
     "slide_type": "subslide"
    }
   },
   "outputs": [
    {
     "name": "stdout",
     "output_type": "stream",
     "text": [
      "(1, 2, [3, 4, 5])\n"
     ]
    }
   ],
   "source": [
    "t1[2].append(5)\n",
    "print(t1)"
   ]
  },
  {
   "cell_type": "markdown",
   "metadata": {
    "slideshow": {
     "slide_type": "subslide"
    }
   },
   "source": [
    "### 串列淺層複製"
   ]
  },
  {
   "cell_type": "code",
   "execution_count": 10,
   "metadata": {
    "slideshow": {
     "slide_type": "-"
    }
   },
   "outputs": [
    {
     "name": "stdout",
     "output_type": "stream",
     "text": [
      "True\n",
      "False\n"
     ]
    }
   ],
   "source": [
    "l1 = [3,[5,4],(7,8,9)]\n",
    "l2 = list(l1)\n",
    "\n",
    "print(l1==l2)\n",
    "print(l1 is l2)"
   ]
  },
  {
   "cell_type": "code",
   "execution_count": null,
   "metadata": {
    "slideshow": {
     "slide_type": "subslide"
    }
   },
   "outputs": [],
   "source": [
    "l1.append(10)\n",
    "l1[1].remove(5)\n",
    "l2[1] += [11,12]\n",
    "l2[2] += (13,14)\n",
    "print(l1)\n",
    "print(l2)"
   ]
  },
  {
   "cell_type": "markdown",
   "metadata": {
    "slideshow": {
     "slide_type": "slide"
    }
   },
   "source": [
    "# 三. Numpy\n",
    "\n",
    "### 1.子陣列為未複製的視圖，非 複製 的陣列"
   ]
  },
  {
   "cell_type": "code",
   "execution_count": 12,
   "metadata": {
    "slideshow": {
     "slide_type": "-"
    }
   },
   "outputs": [
    {
     "name": "stdout",
     "output_type": "stream",
     "text": [
      "[[ 1  2  3  4]\n",
      " [ 5  6  7  8]\n",
      " [ 9 10 11 12]]\n",
      "[[1 2]\n",
      " [5 6]]\n"
     ]
    }
   ],
   "source": [
    "import numpy as np\n",
    "\n",
    "my_array = np.array([[1,2,3,4],[5,6,7,8],[9,10,11,12]])\n",
    "print(my_array)\n",
    "my_array_sub = my_array[0:2,0:2]\n",
    "print(my_array_sub)"
   ]
  },
  {
   "cell_type": "code",
   "execution_count": 14,
   "metadata": {
    "slideshow": {
     "slide_type": "subslide"
    }
   },
   "outputs": [],
   "source": [
    "my_array_sub[0][0] = 66"
   ]
  },
  {
   "cell_type": "code",
   "execution_count": 17,
   "metadata": {
    "slideshow": {
     "slide_type": "-"
    }
   },
   "outputs": [
    {
     "name": "stdout",
     "output_type": "stream",
     "text": [
      "[[66  2]\n",
      " [ 5  6]]\n",
      "[[66  2  3  4]\n",
      " [ 5  6  7  8]\n",
      " [ 9 10 11 12]]\n"
     ]
    }
   ],
   "source": [
    "print(my_array_sub)\n",
    "print(my_array)"
   ]
  },
  {
   "cell_type": "code",
   "execution_count": 20,
   "metadata": {
    "slideshow": {
     "slide_type": "subslide"
    }
   },
   "outputs": [
    {
     "name": "stdout",
     "output_type": "stream",
     "text": [
      "[[77  2]\n",
      " [ 5  6]]\n",
      "[[66  2]\n",
      " [ 5  6]]\n"
     ]
    }
   ],
   "source": [
    "my_array_sub2 = my_array[:2,:2].copy()\n",
    "my_array_sub2[0][0] = 77\n",
    "print(my_array_sub2)\n",
    "print(my_array_sub)"
   ]
  },
  {
   "cell_type": "markdown",
   "metadata": {
    "slideshow": {
     "slide_type": "subslide"
    }
   },
   "source": [
    "### 2.Universal Functions(ufuncs)\n",
    "####   陣列快速運算關鍵 : 向量化操作"
   ]
  },
  {
   "cell_type": "code",
   "execution_count": 21,
   "metadata": {
    "slideshow": {
     "slide_type": "-"
    }
   },
   "outputs": [],
   "source": [
    "def reciprocal(values):\n",
    "    output=np.empty(len(values))\n",
    "    for i in range(len(values)):\n",
    "        output[i] = 1/values[i]\n",
    "    return output"
   ]
  },
  {
   "cell_type": "code",
   "execution_count": 22,
   "metadata": {
    "slideshow": {
     "slide_type": "-"
    }
   },
   "outputs": [
    {
     "name": "stdout",
     "output_type": "stream",
     "text": [
      "[6 1 4 ... 7 6 6]\n",
      "[0.16666667 1.         0.25       ... 0.14285714 0.16666667 0.16666667]\n"
     ]
    }
   ],
   "source": [
    "np.random.seed(0)\n",
    "my_value = np.random.randint(1,10,size=100000)\n",
    "\n",
    "print(my_value)\n",
    "print(reciprocal(my_value))"
   ]
  },
  {
   "cell_type": "markdown",
   "metadata": {
    "slideshow": {
     "slide_type": "subslide"
    }
   },
   "source": [
    "#### 執行時間"
   ]
  },
  {
   "cell_type": "code",
   "execution_count": 23,
   "metadata": {
    "slideshow": {
     "slide_type": "-"
    }
   },
   "outputs": [
    {
     "name": "stdout",
     "output_type": "stream",
     "text": [
      "Wall time: 33.9 ms\n"
     ]
    },
    {
     "data": {
      "text/plain": [
       "array([0.16666667, 1.        , 0.25      , ..., 0.14285714, 0.16666667,\n",
       "       0.16666667])"
      ]
     },
     "execution_count": 23,
     "metadata": {},
     "output_type": "execute_result"
    }
   ],
   "source": [
    "%time reciprocal(my_value)"
   ]
  },
  {
   "cell_type": "code",
   "execution_count": 24,
   "metadata": {
    "slideshow": {
     "slide_type": "-"
    }
   },
   "outputs": [
    {
     "name": "stdout",
     "output_type": "stream",
     "text": [
      "33 ms ± 3.14 ms per loop (mean ± std. dev. of 7 runs, 10 loops each)\n"
     ]
    }
   ],
   "source": [
    "%timeit reciprocal(my_value)"
   ]
  },
  {
   "cell_type": "code",
   "execution_count": 25,
   "metadata": {
    "slideshow": {
     "slide_type": "-"
    }
   },
   "outputs": [
    {
     "name": "stdout",
     "output_type": "stream",
     "text": [
      "137 µs ± 790 ns per loop (mean ± std. dev. of 7 runs, 10000 loops each)\n"
     ]
    }
   ],
   "source": [
    "my_value_array = np.array(my_value)\n",
    "%timeit(1/my_value_array)"
   ]
  },
  {
   "cell_type": "markdown",
   "metadata": {
    "slideshow": {
     "slide_type": "subslide"
    }
   },
   "source": [
    "### 聚合操作\n",
    "常見 : 總和、乘積、中位數、最大值、最小值..."
   ]
  },
  {
   "cell_type": "code",
   "execution_count": 27,
   "metadata": {
    "slideshow": {
     "slide_type": "-"
    }
   },
   "outputs": [
    {
     "name": "stdout",
     "output_type": "stream",
     "text": [
      "[0.013609987359720521, 0.02408740373634599, 0.032479874285764265, 0.03411298619323655, 0.03548055687853957, 0.03985921145223226, 0.04775741890546137, 0.06127445382055541, 0.06208132859270021, 0.09031004873915871, 0.10344278054867728, 0.10646188897364606, 0.11721582599971692, 0.15424698172981732, 0.1600004496429841, 0.1706913072802242, 0.17752475578574944, 0.1800218251503396, 0.1828612741702803, 0.187285779558913, 0.1894457679040017, 0.2107034067002097, 0.21711397453399817, 0.21914529294194796, 0.22148527679548602, 0.2317326941934721, 0.2657885461833348, 0.297833545863163, 0.3254548207107911, 0.34873991622462686, 0.3609224081732546, 0.36137118970031123, 0.3780370273243343, 0.3814064390193005, 0.38512150931464695, 0.3891916879594133, 0.3942560948239139, 0.41065265160869213, 0.41436963657117964, 0.4336185578087688, 0.4439495028230661, 0.4571179609867375, 0.4581248247605051, 0.4605120946198902, 0.4695855065554895, 0.49490781488814717, 0.5063815107795017, 0.520151290053754, 0.5468905296134816, 0.5539088293125586, 0.5543743970302765, 0.6117360182920214, 0.6166505819602234, 0.6171591227084722, 0.6372756987324593, 0.6373774120673997, 0.6400964058040849, 0.6453968113318279, 0.6546113033198372, 0.6585573238144479, 0.6658325089256876, 0.6852374838474076, 0.6876623848098681, 0.6920285027434372, 0.6983190803107694, 0.7106601507991998, 0.7246276937864814, 0.7252717631325096, 0.7275010766542536, 0.7379614498464345, 0.750737157876771, 0.7515042314559699, 0.7660714500231495, 0.7670599184390422, 0.7791811963662439, 0.7794542705842603, 0.7816260205393482, 0.8012341275057947, 0.8019579938642605, 0.8020999116424811, 0.8081857852853818, 0.8146214810623168, 0.8343735635386618, 0.8500097039686108, 0.8702821626192453, 0.8805331612457212, 0.8956768926262418, 0.8997676053240877, 0.9027433022627773, 0.9051518897331474, 0.9149859101085617, 0.9201897131662548, 0.9289236370296714, 0.944024319224378, 0.9493117137637072, 0.9540426888202399, 0.9722031604552467, 0.9817101454971059, 0.994691644789922, 0.9969001244348209]\n",
      "[0.01360999 0.0240874  0.03247987 0.03411299 0.03548056 0.03985921\n",
      " 0.04775742 0.06127445 0.06208133 0.09031005 0.10344278 0.10646189\n",
      " 0.11721583 0.15424698 0.16000045 0.17069131 0.17752476 0.18002183\n",
      " 0.18286127 0.18728578 0.18944577 0.21070341 0.21711397 0.21914529\n",
      " 0.22148528 0.23173269 0.26578855 0.29783355 0.32545482 0.34873992\n",
      " 0.36092241 0.36137119 0.37803703 0.38140644 0.38512151 0.38919169\n",
      " 0.39425609 0.41065265 0.41436964 0.43361856 0.4439495  0.45711796\n",
      " 0.45812482 0.46051209 0.46958551 0.49490781 0.50638151 0.52015129\n",
      " 0.54689053 0.55390883 0.5543744  0.61173602 0.61665058 0.61715912\n",
      " 0.6372757  0.63737741 0.64009641 0.64539681 0.6546113  0.65855732\n",
      " 0.66583251 0.68523748 0.68766238 0.6920285  0.69831908 0.71066015\n",
      " 0.72462769 0.72527176 0.72750108 0.73796145 0.75073716 0.75150423\n",
      " 0.76607145 0.76705992 0.7791812  0.77945427 0.78162602 0.80123413\n",
      " 0.80195799 0.80209991 0.80818579 0.81462148 0.83437356 0.8500097\n",
      " 0.87028216 0.88053316 0.89567689 0.89976761 0.9027433  0.90515189\n",
      " 0.91498591 0.92018971 0.92892364 0.94402432 0.94931171 0.95404269\n",
      " 0.97220316 0.98171015 0.99469164 0.99690012]\n",
      "None\n"
     ]
    }
   ],
   "source": [
    "num_array = np.random.rand(100)\n",
    "\n",
    "print(sorted(num_array))   #內建涵式\n",
    "print(np.sort(num_array))  #numpy內的涵式\n",
    "print(num_array.sort())    #物件本身的方法"
   ]
  },
  {
   "cell_type": "code",
   "execution_count": 28,
   "metadata": {
    "slideshow": {
     "slide_type": "subslide"
    }
   },
   "outputs": [
    {
     "name": "stdout",
     "output_type": "stream",
     "text": [
      "7.58 µs ± 191 ns per loop (mean ± std. dev. of 7 runs, 100000 loops each)\n"
     ]
    }
   ],
   "source": [
    "%timeit sorted(num_array) "
   ]
  },
  {
   "cell_type": "code",
   "execution_count": 29,
   "metadata": {
    "slideshow": {
     "slide_type": "-"
    }
   },
   "outputs": [
    {
     "name": "stdout",
     "output_type": "stream",
     "text": [
      "2.26 µs ± 45.9 ns per loop (mean ± std. dev. of 7 runs, 100000 loops each)\n"
     ]
    }
   ],
   "source": [
    "%timeit np.sort(num_array)"
   ]
  },
  {
   "cell_type": "code",
   "execution_count": 30,
   "metadata": {
    "slideshow": {
     "slide_type": "-"
    }
   },
   "outputs": [
    {
     "name": "stdout",
     "output_type": "stream",
     "text": [
      "664 ns ± 9.82 ns per loop (mean ± std. dev. of 7 runs, 1000000 loops each)\n"
     ]
    }
   ],
   "source": [
    "%timeit num_array.sort()"
   ]
  },
  {
   "cell_type": "markdown",
   "metadata": {
    "slideshow": {
     "slide_type": "subslide"
    }
   },
   "source": [
    "### 陣列上的計算 : Broadcasting"
   ]
  },
  {
   "cell_type": "code",
   "execution_count": 31,
   "metadata": {
    "slideshow": {
     "slide_type": "-"
    }
   },
   "outputs": [
    {
     "name": "stdout",
     "output_type": "stream",
     "text": [
      "[0 1 2]\n",
      "(3,)\n"
     ]
    }
   ],
   "source": [
    "a = np.arange(3)\n",
    "print(a)\n",
    "print(a.shape)"
   ]
  },
  {
   "cell_type": "code",
   "execution_count": 32,
   "metadata": {
    "slideshow": {
     "slide_type": "-"
    }
   },
   "outputs": [
    {
     "name": "stdout",
     "output_type": "stream",
     "text": [
      "[[1. 1. 1.]\n",
      " [1. 1. 1.]]\n",
      "(2, 3)\n"
     ]
    }
   ],
   "source": [
    "b = np.ones((2,3))\n",
    "print(b)\n",
    "print(b.shape)"
   ]
  },
  {
   "cell_type": "markdown",
   "metadata": {
    "slideshow": {
     "slide_type": "subslide"
    }
   },
   "source": [
    "#### 規則一 : 若兩陣列維度不同，低維度陣列被用作墊充"
   ]
  },
  {
   "cell_type": "code",
   "execution_count": 35,
   "metadata": {
    "slideshow": {
     "slide_type": "-"
    }
   },
   "outputs": [
    {
     "name": "stdout",
     "output_type": "stream",
     "text": [
      "[[1. 2. 3.]\n",
      " [1. 2. 3.]]\n",
      "[0 1 2]\n",
      "[[1. 1. 1.]\n",
      " [1. 1. 1.]]\n"
     ]
    }
   ],
   "source": [
    "print(a+b)\n",
    "print(a)\n",
    "print(b)\n",
    "#(3,)+(2,3) -> (1,3)+(2,3) ->(2,3)+(2,3)"
   ]
  },
  {
   "cell_type": "markdown",
   "metadata": {
    "slideshow": {
     "slide_type": "subslide"
    }
   },
   "source": [
    "#### 規則二(兩者皆須broadcasting) : 兩陣列任一維度皆不符合，具有形狀1的那一維要被拉長到符合另一陣列形狀"
   ]
  },
  {
   "cell_type": "code",
   "execution_count": 36,
   "metadata": {
    "slideshow": {
     "slide_type": "-"
    }
   },
   "outputs": [
    {
     "name": "stdout",
     "output_type": "stream",
     "text": [
      "[[0]\n",
      " [1]\n",
      " [2]]\n",
      "(3, 1)\n"
     ]
    }
   ],
   "source": [
    "c = a.reshape((3,1))\n",
    "print(c)\n",
    "print(c.shape)"
   ]
  },
  {
   "cell_type": "code",
   "execution_count": 37,
   "metadata": {
    "slideshow": {
     "slide_type": "-"
    }
   },
   "outputs": [
    {
     "name": "stdout",
     "output_type": "stream",
     "text": [
      "[0 1 2]\n",
      "[[0]\n",
      " [1]\n",
      " [2]]\n",
      "[[0 1 2]\n",
      " [1 2 3]\n",
      " [2 3 4]]\n"
     ]
    }
   ],
   "source": [
    "print(a)\n",
    "print(c)\n",
    "print(a+c)\n",
    "#(3,)+(3,1) -> (1,3)+(3,1) -> (3,3)+(3,3)"
   ]
  },
  {
   "cell_type": "markdown",
   "metadata": {
    "slideshow": {
     "slide_type": "subslide"
    }
   },
   "source": [
    "#### 規則三 : 若兩陣列不能在任一維度符合，也沒有任一個維度大小等於一，則無法執行"
   ]
  },
  {
   "cell_type": "code",
   "execution_count": 38,
   "metadata": {
    "slideshow": {
     "slide_type": "-"
    }
   },
   "outputs": [
    {
     "name": "stdout",
     "output_type": "stream",
     "text": [
      "[[1. 1.]\n",
      " [1. 1.]\n",
      " [1. 1.]]\n",
      "(3, 2)\n"
     ]
    }
   ],
   "source": [
    "d = np.ones((3,2))\n",
    "print(d)\n",
    "print(d.shape)"
   ]
  },
  {
   "cell_type": "code",
   "execution_count": 39,
   "metadata": {
    "slideshow": {
     "slide_type": "-"
    }
   },
   "outputs": [
    {
     "ename": "ValueError",
     "evalue": "operands could not be broadcast together with shapes (3,) (3,2) ",
     "output_type": "error",
     "traceback": [
      "\u001b[1;31m---------------------------------------------------------------------------\u001b[0m",
      "\u001b[1;31mValueError\u001b[0m                                Traceback (most recent call last)",
      "\u001b[1;32m<ipython-input-39-dade3ac04fe2>\u001b[0m in \u001b[0;36m<module>\u001b[1;34m()\u001b[0m\n\u001b[1;32m----> 1\u001b[1;33m \u001b[0ma\u001b[0m\u001b[1;33m+\u001b[0m\u001b[0md\u001b[0m\u001b[1;33m\u001b[0m\u001b[0m\n\u001b[0m\u001b[0;32m      2\u001b[0m \u001b[1;31m#(3,)+(3,2) -> (1,3)+(3,2) -> (3,3)+(3,2)\u001b[0m\u001b[1;33m\u001b[0m\u001b[1;33m\u001b[0m\u001b[0m\n",
      "\u001b[1;31mValueError\u001b[0m: operands could not be broadcast together with shapes (3,) (3,2) "
     ]
    }
   ],
   "source": [
    "a+d\n",
    "#(3,)+(3,2) -> (1,3)+(3,2) -> (3,3)+(3,2)"
   ]
  },
  {
   "cell_type": "code",
   "execution_count": 40,
   "metadata": {
    "slideshow": {
     "slide_type": "subslide"
    }
   },
   "outputs": [
    {
     "data": {
      "text/plain": [
       "array([[1., 1.],\n",
       "       [2., 2.],\n",
       "       [3., 3.]])"
      ]
     },
     "execution_count": 40,
     "metadata": {},
     "output_type": "execute_result"
    }
   ],
   "source": [
    "a[:,np.newaxis]+d.reshape((3,2))\n",
    "#(3,)+(3,2) -> (3,1)+(3,2) -> (3,2)+(3,2)"
   ]
  },
  {
   "cell_type": "markdown",
   "metadata": {
    "slideshow": {
     "slide_type": "slide"
    }
   },
   "source": [
    "# 四. 模組(module)"
   ]
  },
  {
   "cell_type": "code",
   "execution_count": null,
   "metadata": {
    "slideshow": {
     "slide_type": "subslide"
    }
   },
   "outputs": [],
   "source": [
    "import sys\n",
    "for place in sys.path:\n",
    "    print(place)"
   ]
  },
  {
   "cell_type": "code",
   "execution_count": null,
   "metadata": {
    "slideshow": {
     "slide_type": "subslide"
    }
   },
   "outputs": [],
   "source": [
    "import report as rp\n",
    "rp.get_descripition()"
   ]
  },
  {
   "cell_type": "code",
   "execution_count": null,
   "metadata": {
    "slideshow": {
     "slide_type": "-"
    }
   },
   "outputs": [],
   "source": [
    "import today_weather"
   ]
  },
  {
   "cell_type": "markdown",
   "metadata": {
    "slideshow": {
     "slide_type": "subslide"
    }
   },
   "source": [
    "- 套件(Packages)\n",
    "    - 模組1(module1)\n",
    "        - abc.py\n",
    "        - def.py\n",
    "    - 模組2(module2)\n",
    "        - ghi.py\n",
    "\n",
    "許多模組時可建立目錄"
   ]
  },
  {
   "cell_type": "code",
   "execution_count": null,
   "metadata": {
    "slideshow": {
     "slide_type": "-"
    }
   },
   "outputs": [],
   "source": [
    "from sources import daily, weekly\n",
    "\n",
    "print(daily.forecast())\n",
    "print(weekly.forecast())"
   ]
  },
  {
   "cell_type": "code",
   "execution_count": null,
   "metadata": {},
   "outputs": [],
   "source": []
  }
 ],
 "metadata": {
  "kernelspec": {
   "display_name": "Python 3",
   "language": "python",
   "name": "python3"
  },
  "language_info": {
   "codemirror_mode": {
    "name": "ipython",
    "version": 3
   },
   "file_extension": ".py",
   "mimetype": "text/x-python",
   "name": "python",
   "nbconvert_exporter": "python",
   "pygments_lexer": "ipython3",
   "version": "3.6.5"
  }
 },
 "nbformat": 4,
 "nbformat_minor": 2
}
