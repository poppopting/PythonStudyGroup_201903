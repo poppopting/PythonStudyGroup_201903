{
 "cells": [
  {
   "cell_type": "code",
   "execution_count": 1,
   "metadata": {},
   "outputs": [
    {
     "name": "stderr",
     "output_type": "stream",
     "text": [
      "C:\\Users\\Guan-Ting Chen\\Anaconda3\\lib\\site-packages\\h5py\\__init__.py:36: FutureWarning: Conversion of the second argument of issubdtype from `float` to `np.floating` is deprecated. In future, it will be treated as `np.float64 == np.dtype(float).type`.\n",
      "  from ._conv import register_converters as _register_converters\n",
      "Using TensorFlow backend.\n"
     ]
    }
   ],
   "source": [
    "import numpy as np \n",
    "import pandas as pd\n",
    "from imblearn.over_sampling import SMOTE\n",
    "from keras.models import Sequential,load_model\n",
    "from keras.layers import Dense, Activation, Dropout,BatchNormalization\n",
    "from keras import optimizers\n",
    "from keras.callbacks import Callback,History,ModelCheckpoint,EarlyStopping\n",
    "from sklearn.preprocessing import scale\n",
    "from sklearn.model_selection import train_test_split\n",
    "import matplotlib.pyplot as plt\n",
    "import seaborn as sns\n",
    "# 最大顯示的行列數\n",
    "pd.options.display.max_columns = None\n",
    "pd.options.display.max_rows = 300\n",
    "pd.options.display.max_info_rows = None"
   ]
  },
  {
   "cell_type": "markdown",
   "metadata": {},
   "source": [
    "# 整理欄位"
   ]
  },
  {
   "cell_type": "code",
   "execution_count": 2,
   "metadata": {},
   "outputs": [
    {
     "data": {
      "text/html": [
       "<div>\n",
       "<style scoped>\n",
       "    .dataframe tbody tr th:only-of-type {\n",
       "        vertical-align: middle;\n",
       "    }\n",
       "\n",
       "    .dataframe tbody tr th {\n",
       "        vertical-align: top;\n",
       "    }\n",
       "\n",
       "    .dataframe thead th {\n",
       "        text-align: right;\n",
       "    }\n",
       "</style>\n",
       "<table border=\"1\" class=\"dataframe\">\n",
       "  <thead>\n",
       "    <tr style=\"text-align: right;\">\n",
       "      <th></th>\n",
       "      <th>left</th>\n",
       "      <th>satisfaction_level</th>\n",
       "      <th>last_evaluation</th>\n",
       "      <th>number_project</th>\n",
       "      <th>average_montly_hours</th>\n",
       "      <th>time_spend_company</th>\n",
       "      <th>Work_accident</th>\n",
       "      <th>promotion_last_5years</th>\n",
       "      <th>position</th>\n",
       "      <th>salary</th>\n",
       "    </tr>\n",
       "  </thead>\n",
       "  <tbody>\n",
       "    <tr>\n",
       "      <th>0</th>\n",
       "      <td>1</td>\n",
       "      <td>0.38</td>\n",
       "      <td>0.53</td>\n",
       "      <td>2</td>\n",
       "      <td>157</td>\n",
       "      <td>3</td>\n",
       "      <td>0</td>\n",
       "      <td>0</td>\n",
       "      <td>sales</td>\n",
       "      <td>low</td>\n",
       "    </tr>\n",
       "    <tr>\n",
       "      <th>1</th>\n",
       "      <td>1</td>\n",
       "      <td>0.80</td>\n",
       "      <td>0.86</td>\n",
       "      <td>5</td>\n",
       "      <td>262</td>\n",
       "      <td>6</td>\n",
       "      <td>0</td>\n",
       "      <td>0</td>\n",
       "      <td>sales</td>\n",
       "      <td>medium</td>\n",
       "    </tr>\n",
       "    <tr>\n",
       "      <th>2</th>\n",
       "      <td>1</td>\n",
       "      <td>0.11</td>\n",
       "      <td>0.88</td>\n",
       "      <td>7</td>\n",
       "      <td>272</td>\n",
       "      <td>4</td>\n",
       "      <td>0</td>\n",
       "      <td>0</td>\n",
       "      <td>sales</td>\n",
       "      <td>medium</td>\n",
       "    </tr>\n",
       "    <tr>\n",
       "      <th>3</th>\n",
       "      <td>1</td>\n",
       "      <td>0.72</td>\n",
       "      <td>0.87</td>\n",
       "      <td>5</td>\n",
       "      <td>223</td>\n",
       "      <td>5</td>\n",
       "      <td>0</td>\n",
       "      <td>0</td>\n",
       "      <td>sales</td>\n",
       "      <td>low</td>\n",
       "    </tr>\n",
       "    <tr>\n",
       "      <th>4</th>\n",
       "      <td>1</td>\n",
       "      <td>0.37</td>\n",
       "      <td>0.52</td>\n",
       "      <td>2</td>\n",
       "      <td>159</td>\n",
       "      <td>3</td>\n",
       "      <td>0</td>\n",
       "      <td>0</td>\n",
       "      <td>sales</td>\n",
       "      <td>low</td>\n",
       "    </tr>\n",
       "  </tbody>\n",
       "</table>\n",
       "</div>"
      ],
      "text/plain": [
       "   left  satisfaction_level  last_evaluation  number_project  \\\n",
       "0     1                0.38             0.53               2   \n",
       "1     1                0.80             0.86               5   \n",
       "2     1                0.11             0.88               7   \n",
       "3     1                0.72             0.87               5   \n",
       "4     1                0.37             0.52               2   \n",
       "\n",
       "   average_montly_hours  time_spend_company  Work_accident  \\\n",
       "0                   157                   3              0   \n",
       "1                   262                   6              0   \n",
       "2                   272                   4              0   \n",
       "3                   223                   5              0   \n",
       "4                   159                   3              0   \n",
       "\n",
       "   promotion_last_5years position  salary  \n",
       "0                      0    sales     low  \n",
       "1                      0    sales  medium  \n",
       "2                      0    sales  medium  \n",
       "3                      0    sales     low  \n",
       "4                      0    sales     low  "
      ]
     },
     "execution_count": 2,
     "metadata": {},
     "output_type": "execute_result"
    }
   ],
   "source": [
    "hr=pd.read_csv(r'C:\\Users\\Guan-Ting Chen\\Desktop\\NCCU course2018\\applied regrssion\\final report\\hr2.csv')\n",
    "hr=hr.rename(columns={'sales':'position'})\n",
    "hr=hr[['left','satisfaction_level', 'last_evaluation', 'number_project','average_montly_hours', 'time_spend_company', 'Work_accident', \n",
    "       'promotion_last_5years', 'position', 'salary']]\n",
    "hr.head()"
   ]
  },
  {
   "cell_type": "markdown",
   "metadata": {},
   "source": [
    "# 轉dummy"
   ]
  },
  {
   "cell_type": "code",
   "execution_count": 3,
   "metadata": {},
   "outputs": [
    {
     "data": {
      "text/html": [
       "<div>\n",
       "<style scoped>\n",
       "    .dataframe tbody tr th:only-of-type {\n",
       "        vertical-align: middle;\n",
       "    }\n",
       "\n",
       "    .dataframe tbody tr th {\n",
       "        vertical-align: top;\n",
       "    }\n",
       "\n",
       "    .dataframe thead th {\n",
       "        text-align: right;\n",
       "    }\n",
       "</style>\n",
       "<table border=\"1\" class=\"dataframe\">\n",
       "  <thead>\n",
       "    <tr style=\"text-align: right;\">\n",
       "      <th></th>\n",
       "      <th>left</th>\n",
       "      <th>satisfaction_level</th>\n",
       "      <th>last_evaluation</th>\n",
       "      <th>number_project</th>\n",
       "      <th>average_montly_hours</th>\n",
       "      <th>time_spend_company</th>\n",
       "      <th>Work_accident</th>\n",
       "      <th>promotion_last_5years</th>\n",
       "      <th>position_IT</th>\n",
       "      <th>position_RandD</th>\n",
       "      <th>position_accounting</th>\n",
       "      <th>position_hr</th>\n",
       "      <th>position_management</th>\n",
       "      <th>position_marketing</th>\n",
       "      <th>position_product_mng</th>\n",
       "      <th>position_sales</th>\n",
       "      <th>position_support</th>\n",
       "      <th>position_technical</th>\n",
       "      <th>salary_high</th>\n",
       "      <th>salary_low</th>\n",
       "      <th>salary_medium</th>\n",
       "    </tr>\n",
       "  </thead>\n",
       "  <tbody>\n",
       "    <tr>\n",
       "      <th>0</th>\n",
       "      <td>1</td>\n",
       "      <td>0.38</td>\n",
       "      <td>0.53</td>\n",
       "      <td>2</td>\n",
       "      <td>157</td>\n",
       "      <td>3</td>\n",
       "      <td>0</td>\n",
       "      <td>0</td>\n",
       "      <td>0</td>\n",
       "      <td>0</td>\n",
       "      <td>0</td>\n",
       "      <td>0</td>\n",
       "      <td>0</td>\n",
       "      <td>0</td>\n",
       "      <td>0</td>\n",
       "      <td>1</td>\n",
       "      <td>0</td>\n",
       "      <td>0</td>\n",
       "      <td>0</td>\n",
       "      <td>1</td>\n",
       "      <td>0</td>\n",
       "    </tr>\n",
       "    <tr>\n",
       "      <th>1</th>\n",
       "      <td>1</td>\n",
       "      <td>0.80</td>\n",
       "      <td>0.86</td>\n",
       "      <td>5</td>\n",
       "      <td>262</td>\n",
       "      <td>6</td>\n",
       "      <td>0</td>\n",
       "      <td>0</td>\n",
       "      <td>0</td>\n",
       "      <td>0</td>\n",
       "      <td>0</td>\n",
       "      <td>0</td>\n",
       "      <td>0</td>\n",
       "      <td>0</td>\n",
       "      <td>0</td>\n",
       "      <td>1</td>\n",
       "      <td>0</td>\n",
       "      <td>0</td>\n",
       "      <td>0</td>\n",
       "      <td>0</td>\n",
       "      <td>1</td>\n",
       "    </tr>\n",
       "    <tr>\n",
       "      <th>2</th>\n",
       "      <td>1</td>\n",
       "      <td>0.11</td>\n",
       "      <td>0.88</td>\n",
       "      <td>7</td>\n",
       "      <td>272</td>\n",
       "      <td>4</td>\n",
       "      <td>0</td>\n",
       "      <td>0</td>\n",
       "      <td>0</td>\n",
       "      <td>0</td>\n",
       "      <td>0</td>\n",
       "      <td>0</td>\n",
       "      <td>0</td>\n",
       "      <td>0</td>\n",
       "      <td>0</td>\n",
       "      <td>1</td>\n",
       "      <td>0</td>\n",
       "      <td>0</td>\n",
       "      <td>0</td>\n",
       "      <td>0</td>\n",
       "      <td>1</td>\n",
       "    </tr>\n",
       "    <tr>\n",
       "      <th>3</th>\n",
       "      <td>1</td>\n",
       "      <td>0.72</td>\n",
       "      <td>0.87</td>\n",
       "      <td>5</td>\n",
       "      <td>223</td>\n",
       "      <td>5</td>\n",
       "      <td>0</td>\n",
       "      <td>0</td>\n",
       "      <td>0</td>\n",
       "      <td>0</td>\n",
       "      <td>0</td>\n",
       "      <td>0</td>\n",
       "      <td>0</td>\n",
       "      <td>0</td>\n",
       "      <td>0</td>\n",
       "      <td>1</td>\n",
       "      <td>0</td>\n",
       "      <td>0</td>\n",
       "      <td>0</td>\n",
       "      <td>1</td>\n",
       "      <td>0</td>\n",
       "    </tr>\n",
       "    <tr>\n",
       "      <th>4</th>\n",
       "      <td>1</td>\n",
       "      <td>0.37</td>\n",
       "      <td>0.52</td>\n",
       "      <td>2</td>\n",
       "      <td>159</td>\n",
       "      <td>3</td>\n",
       "      <td>0</td>\n",
       "      <td>0</td>\n",
       "      <td>0</td>\n",
       "      <td>0</td>\n",
       "      <td>0</td>\n",
       "      <td>0</td>\n",
       "      <td>0</td>\n",
       "      <td>0</td>\n",
       "      <td>0</td>\n",
       "      <td>1</td>\n",
       "      <td>0</td>\n",
       "      <td>0</td>\n",
       "      <td>0</td>\n",
       "      <td>1</td>\n",
       "      <td>0</td>\n",
       "    </tr>\n",
       "  </tbody>\n",
       "</table>\n",
       "</div>"
      ],
      "text/plain": [
       "   left  satisfaction_level  last_evaluation  number_project  \\\n",
       "0     1                0.38             0.53               2   \n",
       "1     1                0.80             0.86               5   \n",
       "2     1                0.11             0.88               7   \n",
       "3     1                0.72             0.87               5   \n",
       "4     1                0.37             0.52               2   \n",
       "\n",
       "   average_montly_hours  time_spend_company  Work_accident  \\\n",
       "0                   157                   3              0   \n",
       "1                   262                   6              0   \n",
       "2                   272                   4              0   \n",
       "3                   223                   5              0   \n",
       "4                   159                   3              0   \n",
       "\n",
       "   promotion_last_5years  position_IT  position_RandD  position_accounting  \\\n",
       "0                      0            0               0                    0   \n",
       "1                      0            0               0                    0   \n",
       "2                      0            0               0                    0   \n",
       "3                      0            0               0                    0   \n",
       "4                      0            0               0                    0   \n",
       "\n",
       "   position_hr  position_management  position_marketing  position_product_mng  \\\n",
       "0            0                    0                   0                     0   \n",
       "1            0                    0                   0                     0   \n",
       "2            0                    0                   0                     0   \n",
       "3            0                    0                   0                     0   \n",
       "4            0                    0                   0                     0   \n",
       "\n",
       "   position_sales  position_support  position_technical  salary_high  \\\n",
       "0               1                 0                   0            0   \n",
       "1               1                 0                   0            0   \n",
       "2               1                 0                   0            0   \n",
       "3               1                 0                   0            0   \n",
       "4               1                 0                   0            0   \n",
       "\n",
       "   salary_low  salary_medium  \n",
       "0           1              0  \n",
       "1           0              1  \n",
       "2           0              1  \n",
       "3           1              0  \n",
       "4           1              0  "
      ]
     },
     "execution_count": 3,
     "metadata": {},
     "output_type": "execute_result"
    }
   ],
   "source": [
    "hr=pd.get_dummies(hr)\n",
    "hr.head()"
   ]
  },
  {
   "cell_type": "markdown",
   "metadata": {},
   "source": [
    "# 0 ,1 不平衡"
   ]
  },
  {
   "cell_type": "code",
   "execution_count": 4,
   "metadata": {},
   "outputs": [
    {
     "data": {
      "text/plain": [
       "0    11428\n",
       "1     3571\n",
       "Name: left, dtype: int64"
      ]
     },
     "execution_count": 4,
     "metadata": {},
     "output_type": "execute_result"
    }
   ],
   "source": [
    "hr.left.value_counts()"
   ]
  },
  {
   "cell_type": "markdown",
   "metadata": {},
   "source": [
    "# 先抓0,1 出來 再拆分"
   ]
  },
  {
   "cell_type": "code",
   "execution_count": 5,
   "metadata": {},
   "outputs": [],
   "source": [
    "hr0=hr[hr['left']==0]\n",
    "hr0=hr0.reset_index(drop=True)\n",
    "hr1=hr[hr['left']==1]\n",
    "hr1=hr1.reset_index(drop=True)"
   ]
  },
  {
   "cell_type": "markdown",
   "metadata": {},
   "source": [
    "# 重新合成 測試 訓練集"
   ]
  },
  {
   "cell_type": "code",
   "execution_count": 6,
   "metadata": {},
   "outputs": [
    {
     "name": "stderr",
     "output_type": "stream",
     "text": [
      "C:\\Users\\Guan-Ting Chen\\Anaconda3\\lib\\site-packages\\ipykernel_launcher.py:5: DataConversionWarning: Data with input dtype uint8, int64, float64 were all converted to float64 by the scale function.\n",
      "  \"\"\"\n"
     ]
    }
   ],
   "source": [
    "x_train_0,x_test_0,y_train_0,y_test_0=train_test_split(hr0.iloc[:,1:],hr0.iloc[:,0],test_size=0.3)\n",
    "x_train_1,x_test_1,y_train_1,y_test_1=train_test_split(hr1.iloc[:,1:],hr1.iloc[:,0],test_size=0.3)\n",
    "x_train=pd.concat([x_train_0,x_train_1],axis=0)\n",
    "x_test=pd.concat([x_test_0,x_test_1],axis=0)\n",
    "x_test=scale(x_test)\n",
    "y_train=pd.concat([y_train_0,y_train_1],axis=0)\n",
    "y_test=pd.concat([y_test_0,y_test_1],axis=0)"
   ]
  },
  {
   "cell_type": "markdown",
   "metadata": {},
   "source": [
    "# 用SMOTE生成樣本解決不平衡"
   ]
  },
  {
   "cell_type": "code",
   "execution_count": 7,
   "metadata": {},
   "outputs": [],
   "source": [
    "over_samples=SMOTE(random_state=107354012)   \n",
    "over_samples_X,over_samples_y=over_samples.fit_sample(x_train, y_train)  "
   ]
  },
  {
   "cell_type": "markdown",
   "metadata": {},
   "source": [
    "# keras 的資料型態\n",
    "- 分類的變數要用 one-encoding"
   ]
  },
  {
   "cell_type": "code",
   "execution_count": 8,
   "metadata": {},
   "outputs": [],
   "source": [
    "y_train_dnn=pd.get_dummies(over_samples_y)\n",
    "x_train_dnn=scale(over_samples_X)"
   ]
  },
  {
   "cell_type": "code",
   "execution_count": 9,
   "metadata": {},
   "outputs": [
    {
     "data": {
      "text/html": [
       "<div>\n",
       "<style scoped>\n",
       "    .dataframe tbody tr th:only-of-type {\n",
       "        vertical-align: middle;\n",
       "    }\n",
       "\n",
       "    .dataframe tbody tr th {\n",
       "        vertical-align: top;\n",
       "    }\n",
       "\n",
       "    .dataframe thead th {\n",
       "        text-align: right;\n",
       "    }\n",
       "</style>\n",
       "<table border=\"1\" class=\"dataframe\">\n",
       "  <thead>\n",
       "    <tr style=\"text-align: right;\">\n",
       "      <th></th>\n",
       "      <th>0</th>\n",
       "      <th>1</th>\n",
       "    </tr>\n",
       "  </thead>\n",
       "  <tbody>\n",
       "    <tr>\n",
       "      <th>0</th>\n",
       "      <td>1</td>\n",
       "      <td>0</td>\n",
       "    </tr>\n",
       "    <tr>\n",
       "      <th>1</th>\n",
       "      <td>1</td>\n",
       "      <td>0</td>\n",
       "    </tr>\n",
       "    <tr>\n",
       "      <th>2</th>\n",
       "      <td>1</td>\n",
       "      <td>0</td>\n",
       "    </tr>\n",
       "    <tr>\n",
       "      <th>3</th>\n",
       "      <td>1</td>\n",
       "      <td>0</td>\n",
       "    </tr>\n",
       "    <tr>\n",
       "      <th>4</th>\n",
       "      <td>1</td>\n",
       "      <td>0</td>\n",
       "    </tr>\n",
       "  </tbody>\n",
       "</table>\n",
       "</div>"
      ],
      "text/plain": [
       "   0  1\n",
       "0  1  0\n",
       "1  1  0\n",
       "2  1  0\n",
       "3  1  0\n",
       "4  1  0"
      ]
     },
     "execution_count": 9,
     "metadata": {},
     "output_type": "execute_result"
    }
   ],
   "source": [
    "y_train_dnn.head()"
   ]
  },
  {
   "cell_type": "markdown",
   "metadata": {},
   "source": [
    "# 開始建模"
   ]
  },
  {
   "cell_type": "code",
   "execution_count": 10,
   "metadata": {},
   "outputs": [
    {
     "data": {
      "text/plain": [
       "(15998, 20)"
      ]
     },
     "execution_count": 10,
     "metadata": {},
     "output_type": "execute_result"
    }
   ],
   "source": [
    "x_train_dnn.shape"
   ]
  },
  {
   "cell_type": "code",
   "execution_count": 15,
   "metadata": {},
   "outputs": [
    {
     "name": "stdout",
     "output_type": "stream",
     "text": [
      "Train on 11998 samples, validate on 4000 samples\n",
      "Epoch 1/20\n",
      "11998/11998 [==============================] - 15s 1ms/step - loss: 0.7131 - acc: 0.5918 - val_loss: 0.8052 - val_acc: 1.2500e-04\n",
      "Epoch 2/20\n",
      "11998/11998 [==============================] - 1s 56us/step - loss: 0.6456 - acc: 0.6333 - val_loss: 0.7869 - val_acc: 0.0000e+00\n",
      "Epoch 3/20\n",
      "11998/11998 [==============================] - 1s 56us/step - loss: 0.5925 - acc: 0.6629 - val_loss: 0.7332 - val_acc: 3.7500e-04\n",
      "Epoch 4/20\n",
      "11998/11998 [==============================] - 1s 57us/step - loss: 0.5512 - acc: 0.6979 - val_loss: 0.6757 - val_acc: 0.9595\n",
      "Epoch 5/20\n",
      "11998/11998 [==============================] - 1s 57us/step - loss: 0.5143 - acc: 0.7383 - val_loss: 0.5970 - val_acc: 0.9948\n",
      "Epoch 6/20\n",
      "11998/11998 [==============================] - 1s 56us/step - loss: 0.4871 - acc: 0.7675 - val_loss: 0.5272 - val_acc: 0.9955\n",
      "Epoch 7/20\n",
      "11998/11998 [==============================] - 1s 55us/step - loss: 0.4585 - acc: 0.7848 - val_loss: 0.4657 - val_acc: 0.9963\n",
      "Epoch 8/20\n",
      "11998/11998 [==============================] - 1s 56us/step - loss: 0.4344 - acc: 0.8048 - val_loss: 0.4050 - val_acc: 0.9966\n",
      "Epoch 9/20\n",
      "11998/11998 [==============================] - 1s 60us/step - loss: 0.4178 - acc: 0.8208 - val_loss: 0.3567 - val_acc: 0.9956\n",
      "Epoch 10/20\n",
      "11998/11998 [==============================] - 1s 54us/step - loss: 0.4008 - acc: 0.8316 - val_loss: 0.3193 - val_acc: 0.9965\n",
      "Epoch 11/20\n",
      "11998/11998 [==============================] - 1s 56us/step - loss: 0.3819 - acc: 0.8433 - val_loss: 0.2817 - val_acc: 0.9946\n",
      "Epoch 12/20\n",
      "11998/11998 [==============================] - 1s 54us/step - loss: 0.3773 - acc: 0.8452 - val_loss: 0.2688 - val_acc: 0.9949\n",
      "Epoch 13/20\n",
      "11998/11998 [==============================] - 1s 55us/step - loss: 0.3637 - acc: 0.8557 - val_loss: 0.2449 - val_acc: 0.9943\n",
      "Epoch 14/20\n",
      "11998/11998 [==============================] - 1s 54us/step - loss: 0.3498 - acc: 0.8642 - val_loss: 0.2316 - val_acc: 0.9960\n",
      "Epoch 15/20\n",
      "11998/11998 [==============================] - 1s 54us/step - loss: 0.3531 - acc: 0.8647 - val_loss: 0.2168 - val_acc: 0.9944\n",
      "Epoch 16/20\n",
      "11998/11998 [==============================] - 1s 54us/step - loss: 0.3457 - acc: 0.8702 - val_loss: 0.2029 - val_acc: 0.9948\n",
      "Epoch 17/20\n",
      "11998/11998 [==============================] - 1s 59us/step - loss: 0.3315 - acc: 0.8760 - val_loss: 0.1967 - val_acc: 0.9961\n",
      "Epoch 18/20\n",
      "11998/11998 [==============================] - 1s 55us/step - loss: 0.3230 - acc: 0.8814 - val_loss: 0.1747 - val_acc: 0.9946\n",
      "Epoch 19/20\n",
      "11998/11998 [==============================] - 1s 53us/step - loss: 0.3218 - acc: 0.8799 - val_loss: 0.1660 - val_acc: 0.9963\n",
      "Epoch 20/20\n",
      "11998/11998 [==============================] - 1s 53us/step - loss: 0.3150 - acc: 0.8818 - val_loss: 0.1607 - val_acc: 0.9963\n"
     ]
    },
    {
     "data": {
      "text/plain": [
       "<keras.callbacks.History at 0x21c1b95fa58>"
      ]
     },
     "execution_count": 15,
     "metadata": {},
     "output_type": "execute_result"
    }
   ],
   "source": [
    "# define model 宣告妳要建立一個一層一層的網路(Linear stack of layers.)\n",
    "dnn_model = Sequential() \n",
    "\n",
    "# hidden layer\n",
    "dnn_model.add(Dense(50,input_dim=x_train_dnn.shape[1],activation='relu'))\n",
    "dnn_model.add(Dropout(0.5))\n",
    "for i in range(5):\n",
    "    dnn_model.add(Dense(50))\n",
    "    dnn_model.add(BatchNormalization())  #均值接近0，其標準差接近1\n",
    "    dnn_model.add(Activation(\"relu\"))\n",
    "    dnn_model.add(Dropout(0.5))\n",
    "# output layer\n",
    "dnn_model.add(Dense(2,activation='sigmoid'))\n",
    "\n",
    "dnn_model.compile(loss='binary_crossentropy',optimizer='rmsprop',metrics=['accuracy'])\n",
    "dnn_model.fit(x_train_dnn,y_train_dnn,epochs=20,batch_size=200,shuffle=True,validation_split = 0.25)"
   ]
  },
  {
   "cell_type": "code",
   "execution_count": 14,
   "metadata": {},
   "outputs": [
    {
     "name": "stdout",
     "output_type": "stream",
     "text": [
      "_________________________________________________________________\n",
      "Layer (type)                 Output Shape              Param #   \n",
      "=================================================================\n",
      "dense_1 (Dense)              (None, 50)                1050      \n",
      "_________________________________________________________________\n",
      "dropout_1 (Dropout)          (None, 50)                0         \n",
      "_________________________________________________________________\n",
      "dense_2 (Dense)              (None, 50)                2550      \n",
      "_________________________________________________________________\n",
      "batch_normalization_1 (Batch (None, 50)                200       \n",
      "_________________________________________________________________\n",
      "activation_1 (Activation)    (None, 50)                0         \n",
      "_________________________________________________________________\n",
      "dropout_2 (Dropout)          (None, 50)                0         \n",
      "_________________________________________________________________\n",
      "dense_3 (Dense)              (None, 50)                2550      \n",
      "_________________________________________________________________\n",
      "batch_normalization_2 (Batch (None, 50)                200       \n",
      "_________________________________________________________________\n",
      "activation_2 (Activation)    (None, 50)                0         \n",
      "_________________________________________________________________\n",
      "dropout_3 (Dropout)          (None, 50)                0         \n",
      "_________________________________________________________________\n",
      "dense_4 (Dense)              (None, 50)                2550      \n",
      "_________________________________________________________________\n",
      "batch_normalization_3 (Batch (None, 50)                200       \n",
      "_________________________________________________________________\n",
      "activation_3 (Activation)    (None, 50)                0         \n",
      "_________________________________________________________________\n",
      "dropout_4 (Dropout)          (None, 50)                0         \n",
      "_________________________________________________________________\n",
      "dense_5 (Dense)              (None, 50)                2550      \n",
      "_________________________________________________________________\n",
      "batch_normalization_4 (Batch (None, 50)                200       \n",
      "_________________________________________________________________\n",
      "activation_4 (Activation)    (None, 50)                0         \n",
      "_________________________________________________________________\n",
      "dropout_5 (Dropout)          (None, 50)                0         \n",
      "_________________________________________________________________\n",
      "dense_6 (Dense)              (None, 50)                2550      \n",
      "_________________________________________________________________\n",
      "batch_normalization_5 (Batch (None, 50)                200       \n",
      "_________________________________________________________________\n",
      "activation_5 (Activation)    (None, 50)                0         \n",
      "_________________________________________________________________\n",
      "dropout_6 (Dropout)          (None, 50)                0         \n",
      "_________________________________________________________________\n",
      "dense_7 (Dense)              (None, 2)                 102       \n",
      "=================================================================\n",
      "Total params: 14,902\n",
      "Trainable params: 14,402\n",
      "Non-trainable params: 500\n",
      "_________________________________________________________________\n"
     ]
    }
   ],
   "source": [
    "#dnn_model.summary()"
   ]
  },
  {
   "cell_type": "markdown",
   "metadata": {},
   "source": [
    "# 紀錄最佳模型\n",
    "# 考慮容忍度"
   ]
  },
  {
   "cell_type": "code",
   "execution_count": 60,
   "metadata": {},
   "outputs": [],
   "source": [
    "# checkpoint\n",
    "filepath=\"best.hdf5\"\n",
    "checkpoint = ModelCheckpoint(filepath, monitor='val_acc', verbose=1, save_best_only=True, mode='max')\n",
    "\n",
    "# earlystopping\n",
    "earlystopping = EarlyStopping(monitor=\"val_acc\",patience=5)\n",
    "\n",
    "callbacks_list = [checkpoint,earlystopping]"
   ]
  },
  {
   "cell_type": "markdown",
   "metadata": {},
   "source": [
    "# 再run一次"
   ]
  },
  {
   "cell_type": "code",
   "execution_count": 62,
   "metadata": {},
   "outputs": [
    {
     "name": "stdout",
     "output_type": "stream",
     "text": [
      "Train on 11998 samples, validate on 4000 samples\n",
      "Epoch 1/20\n",
      "11998/11998 [==============================] - 4s 310us/step - loss: 0.7529 - acc: 0.5506 - val_loss: 0.7906 - val_acc: 0.0019\n",
      "\n",
      "Epoch 00001: val_acc improved from 0.00050 to 0.00187, saving model to best.hdf5\n",
      "Epoch 2/20\n",
      "11998/11998 [==============================] - 1s 54us/step - loss: 0.6614 - acc: 0.6154 - val_loss: 0.7862 - val_acc: 0.0000e+00\n",
      "\n",
      "Epoch 00002: val_acc did not improve from 0.00187\n",
      "Epoch 3/20\n",
      "11998/11998 [==============================] - 1s 53us/step - loss: 0.6048 - acc: 0.6548 - val_loss: 0.7346 - val_acc: 0.0000e+00\n",
      "\n",
      "Epoch 00003: val_acc did not improve from 0.00187\n",
      "Epoch 4/20\n",
      "11998/11998 [==============================] - 1s 53us/step - loss: 0.5576 - acc: 0.6840 - val_loss: 0.6913 - val_acc: 0.8280\n",
      "\n",
      "Epoch 00004: val_acc improved from 0.00187 to 0.82800, saving model to best.hdf5\n",
      "Epoch 5/20\n",
      "11998/11998 [==============================] - 1s 55us/step - loss: 0.5157 - acc: 0.7255 - val_loss: 0.6071 - val_acc: 0.9919\n",
      "\n",
      "Epoch 00005: val_acc improved from 0.82800 to 0.99188, saving model to best.hdf5\n",
      "Epoch 6/20\n",
      "11998/11998 [==============================] - 1s 54us/step - loss: 0.4857 - acc: 0.7527 - val_loss: 0.5326 - val_acc: 0.9948\n",
      "\n",
      "Epoch 00006: val_acc improved from 0.99188 to 0.99475, saving model to best.hdf5\n",
      "Epoch 7/20\n",
      "11998/11998 [==============================] - 1s 55us/step - loss: 0.4681 - acc: 0.7777 - val_loss: 0.4795 - val_acc: 0.9960\n",
      "\n",
      "Epoch 00007: val_acc improved from 0.99475 to 0.99600, saving model to best.hdf5\n",
      "Epoch 8/20\n",
      "11998/11998 [==============================] - 1s 58us/step - loss: 0.4406 - acc: 0.7936 - val_loss: 0.4179 - val_acc: 0.9964\n",
      "\n",
      "Epoch 00008: val_acc improved from 0.99600 to 0.99638, saving model to best.hdf5\n",
      "Epoch 9/20\n",
      "11998/11998 [==============================] - 1s 60us/step - loss: 0.4207 - acc: 0.8115 - val_loss: 0.3833 - val_acc: 0.9963\n",
      "\n",
      "Epoch 00009: val_acc did not improve from 0.99638\n",
      "Epoch 10/20\n",
      "11998/11998 [==============================] - 1s 54us/step - loss: 0.4051 - acc: 0.8206 - val_loss: 0.3564 - val_acc: 0.9968\n",
      "\n",
      "Epoch 00010: val_acc improved from 0.99638 to 0.99675, saving model to best.hdf5\n",
      "Epoch 11/20\n",
      "11998/11998 [==============================] - 1s 54us/step - loss: 0.3842 - acc: 0.8361 - val_loss: 0.3003 - val_acc: 0.9964\n",
      "\n",
      "Epoch 00011: val_acc did not improve from 0.99675\n",
      "Epoch 12/20\n",
      "11998/11998 [==============================] - 1s 54us/step - loss: 0.3742 - acc: 0.8456 - val_loss: 0.2722 - val_acc: 0.9958\n",
      "\n",
      "Epoch 00012: val_acc did not improve from 0.99675\n",
      "Epoch 13/20\n",
      "11998/11998 [==============================] - 1s 53us/step - loss: 0.3655 - acc: 0.8494 - val_loss: 0.2537 - val_acc: 0.9948\n",
      "\n",
      "Epoch 00013: val_acc did not improve from 0.99675\n",
      "Epoch 14/20\n",
      "11998/11998 [==============================] - 1s 53us/step - loss: 0.3547 - acc: 0.8609 - val_loss: 0.2337 - val_acc: 0.9956\n",
      "\n",
      "Epoch 00014: val_acc did not improve from 0.99675\n",
      "Epoch 15/20\n",
      "11998/11998 [==============================] - 1s 52us/step - loss: 0.3439 - acc: 0.8700 - val_loss: 0.2059 - val_acc: 0.9950\n",
      "\n",
      "Epoch 00015: val_acc did not improve from 0.99675\n"
     ]
    }
   ],
   "source": [
    "# define model 宣告妳要建立一個一層一層的網路(Linear stack of layers.)\n",
    "dnn_model = Sequential() \n",
    "\n",
    "# hidden layer\n",
    "dnn_model.add(Dense(50,input_dim=x_train_dnn.shape[1],activation='relu'))\n",
    "dnn_model.add(Dropout(0.5))\n",
    "for i in range(5):\n",
    "    dnn_model.add(Dense(50))\n",
    "    dnn_model.add(BatchNormalization())  #均值接近0，其標準差接近1\n",
    "    dnn_model.add(Activation(\"relu\"))\n",
    "    dnn_model.add(Dropout(0.5))\n",
    "# output layer\n",
    "dnn_model.add(Dense(2,activation='sigmoid'))\n",
    "\n",
    "#lr=learning rate\n",
    "opt= optimizers.Adamax(lr=0.002)\n",
    "dnn_model.compile(loss='binary_crossentropy',optimizer='rmsprop',metrics=['accuracy'])\n",
    "history=dnn_model.fit(x_train_dnn,y_train_dnn,epochs=20,batch_size=200,shuffle=True,validation_split = 0.25,callbacks=callbacks_list)"
   ]
  },
  {
   "cell_type": "markdown",
   "metadata": {},
   "source": [
    "# 評估模型"
   ]
  },
  {
   "cell_type": "code",
   "execution_count": 63,
   "metadata": {},
   "outputs": [],
   "source": [
    "from sklearn.metrics import classification_report\n",
    "from sklearn.metrics import confusion_matrix\n",
    "from sklearn.metrics import roc_auc_score\n",
    "from sklearn.metrics import roc_curve"
   ]
  },
  {
   "cell_type": "markdown",
   "metadata": {},
   "source": [
    "# ROC Curve"
   ]
  },
  {
   "cell_type": "code",
   "execution_count": 64,
   "metadata": {},
   "outputs": [
    {
     "data": {
      "image/png": "[encoded data removed]",
      "text/plain": [
       "<Figure size 432x288 with 1 Axes>"
      ]
     },
     "metadata": {},
     "output_type": "display_data"
    }
   ],
   "source": [
    "logit_roc_auc = roc_auc_score(y_test,dnn_model.predict(x_test)[:,1])\n",
    "fpr, tpr, thresholds = roc_curve(y_test,dnn_model.predict_proba(x_test)[:,1])\n",
    "plt.figure()\n",
    "plt.plot(fpr, tpr, label='Logistic Regression (area = %0.2f)' % logit_roc_auc)\n",
    "plt.plot([0, 1], [0, 1],'r--')\n",
    "plt.xlim([0.0, 1.0])\n",
    "plt.ylim([0.0, 1.05])\n",
    "plt.xlabel('1–Specifity',fontsize=20)\n",
    "plt.ylabel('sensitivity',fontsize=20)\n",
    "plt.title('ROC curve',fontsize=20)\n",
    "plt.legend(loc=\"lower right\",fontsize=14)\n",
    "ax = plt.gca()\n",
    "ax.tick_params(axis = 'x', which = 'major', labelsize = 20)\n",
    "ax.tick_params(axis = 'y', which = 'major', labelsize = 20)\n",
    "plt.show()"
   ]
  },
  {
   "cell_type": "markdown",
   "metadata": {},
   "source": [
    "# 渾淆矩陣"
   ]
  },
  {
   "cell_type": "code",
   "execution_count": 65,
   "metadata": {},
   "outputs": [
    {
     "data": {
      "image/png": "[encoded data removed]",
      "text/plain": [
       "<Figure size 432x288 with 2 Axes>"
      ]
     },
     "metadata": {},
     "output_type": "display_data"
    }
   ],
   "source": [
    "logreg_y_pred = dnn_model.predict_classes(x_test)\n",
    "logreg_cm =confusion_matrix(logreg_y_pred,y_test,[1,0])\n",
    "sns.heatmap(logreg_cm,annot=True, fmt='.0f',xticklabels = [\"Left(1)\", \"Stayed(0)\"] , yticklabels = [\"Left(1)\", \"Stayed(0)\"],annot_kws={\"size\": 20})\n",
    "plt.ylabel('Predicted class',fontsize=20)\n",
    "plt.xlabel('True class',fontsize=20)\n",
    "plt.title('Logistic Regression',fontsize=20)\n",
    "ax = plt.gca()\n",
    "ax.tick_params(axis = 'x', which = 'major', labelsize = 20)\n",
    "ax.tick_params(axis = 'y', which = 'major', labelsize = 20)"
   ]
  },
  {
   "cell_type": "code",
   "execution_count": 66,
   "metadata": {},
   "outputs": [
    {
     "data": {
      "text/plain": [
       "Text(0.5,1,'Validation accuracy')"
      ]
     },
     "execution_count": 66,
     "metadata": {},
     "output_type": "execute_result"
    },
    {
     "data": {
      "image/png": "[encoded data removed]",
      "text/plain": [
       "<Figure size 1600x480 with 1 Axes>"
      ]
     },
     "metadata": {},
     "output_type": "display_data"
    }
   ],
   "source": [
    "plt.figure(num=None, figsize=(20, 6), dpi=80, facecolor='w', edgecolor='k')\n",
    "plt.plot(history.history['acc'])\n",
    "plt.plot(history.history['val_acc'])\n",
    "plt.xlabel(\"Epochs\")\n",
    "plt.ylabel('accuracy')\n",
    "plt.legend(['train', 'test'], loc='upper left')\n",
    "plt.title(\"Validation accuracy\")"
   ]
  }
 ],
 "metadata": {
  "kernelspec": {
   "display_name": "Python 3",
   "language": "python",
   "name": "python3"
  },
  "language_info": {
   "codemirror_mode": {
    "name": "ipython",
    "version": 3
   },
   "file_extension": ".py",
   "mimetype": "text/x-python",
   "name": "python",
   "nbconvert_exporter": "python",
   "pygments_lexer": "ipython3",
   "version": "3.6.5"
  }
 },
 "nbformat": 4,
 "nbformat_minor": 2
}
