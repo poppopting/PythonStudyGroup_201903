{
 "cells": [
  {
   "cell_type": "markdown",
   "metadata": {},
   "source": [
    "物件導向程式設計(OOP)是利用\"類別\"和\"物件\"來建立各種模型來實現對真實世界的描述，使用物件導向程式設計的原因一方面是因為它可以使程式的維護和擴充套件變得更簡單，並且可以大大提高程式開發效率，另外，基於物件導向的程式可以使它人更加容易理解你的程式碼邏輯，從而使團隊開發變得更從容(比程序導向的程式設計更簡單)\n",
    "\n",
    "物件(object):世界萬物皆物件，其實我們生成在這個世界上每天所看到接觸的都是物件，比如你的滑鼠、你的鍵盤，你的杯子，還有你其實都是物件，而每個物件都有自己的屬性。\n",
    "\n",
    "類別(class):把相似的物件歸為一類，例如:人類、狗。類別比物件更具有永恆性，例如人會老死，但人類這個類別會永遠存在，因此類別是OOP裡的核心觀念。程式裡類別統一說明物件應該有哪些資料(特徵)及行為(函數)。兩種常見類別關係:父子關係及整體/部分關係。"
   ]
  },
  {
   "cell_type": "markdown",
   "metadata": {},
   "source": [
    "為什需要物件導向?\n",
    "現在我們大家可以把自己看作上帝，給你一個地球自己想放什麼就放什麼，首先山川、河流放好了，然後你為了讓你的地球可以豐富一點，你開始加動物，比如鳥啊，那鳥就有很多種了，百靈鳥、麻雀、火烈鳥等等，那你作為上帝是不是該累死了，每天坐那捏鳥，多無聊，你是不是想輕巧點，那怎麼辦呢，你發現你捏的鳥把，其實也不多，我們來分析看看\n",
    "鳥：顏色 形狀 會飛 會叫\n",
    "那不同的可能是鳥長的不太一樣，或者叫聲不一樣，但是大部分還是一樣，上帝也累呀，於是呢就想創造一個鳥出來，然後不同的鳥都是在這個基礎上加工，這回是不是省事多了，那鳥造完了，還有魚呢，還有人"
   ]
  },
  {
   "cell_type": "markdown",
   "metadata": {},
   "source": [
    "父子關係的類別，例如:動物是一種生物，植物也是一種生物，動物是生物的子類別，植物也是生物的子類別，生物是動物及植物的父類別"
   ]
  },
  {
   "cell_type": "code",
   "execution_count": 1,
   "metadata": {},
   "outputs": [
    {
     "name": "stdout",
     "output_type": "stream",
     "text": [
      "peach 8 2.1\n",
      "rose 2 3.5\n"
     ]
    }
   ],
   "source": [
    "#3種特性:品種、年齡、高度\n",
    "class Tree:\n",
    "    def __init__(self,v,a,h):   #初始設定函數:依照類別之定義分配記憶體空間給所誕生之物件，並設定新物件之初值\n",
    "        self.variety=v\n",
    "        self.age=a\n",
    "        self.height=h\n",
    "    pass\n",
    "x=Tree(\"peach\",8,2.1) #物件X\n",
    "y=Tree(\"rose\",2,3.5)  #物件y\n",
    "print(x.variety,x.age,x.height)\n",
    "print(y.variety,y.age,y.height)"
   ]
  },
  {
   "cell_type": "code",
   "execution_count": 2,
   "metadata": {},
   "outputs": [
    {
     "name": "stdout",
     "output_type": "stream",
     "text": [
      "peach 8 2.1 3 20\n",
      "green 2 10 chopstick\n"
     ]
    }
   ],
   "source": [
    "#把樹分為果樹及竹子兩個子類別\n",
    "class Tree:                       #父類別\n",
    "    def __init__(self,v,a,h):\n",
    "        self.variety=v\n",
    "        self.age=a\n",
    "        self.height=h\n",
    "    pass\n",
    "class FruitTree(Tree):            #子類別:多month、price\n",
    "    def __init__(self,v,a,h,m,p):\n",
    "        self.variety=v\n",
    "        self.age=a\n",
    "        self.height=h\n",
    "        self.month=m\n",
    "        self.price=p\n",
    "    pass\n",
    "class Bamboo(Tree):               #子類別:多usage\n",
    "    def __init__(self,v,a,h,u):\n",
    "        self.variety=v\n",
    "        self.age=a\n",
    "        self.height=h\n",
    "        self.usage=u\n",
    "    pass\n",
    "x=FruitTree(\"peach\",8,2.1,3,20)\n",
    "y=Bamboo(\"green\",2,10,\"chopstick\")\n",
    "print(x.variety,x.age,x.height,x.month,x.price)\n",
    "print(y.variety,y.age,y.height,y.usage)\n",
    "#子類別繼承父類別3個特性"
   ]
  },
  {
   "cell_type": "markdown",
   "metadata": {},
   "source": [
    "物件之行為，即物件內資料之變化，其基本行為抱括:\n",
    "(1)把資料送入物件並儲存起來\n",
    "(2)改變物件內之資料\n",
    "(3)拿物件資料來做運算\n",
    "(4)從物件中送出資料\n",
    "把函數加入類別中，以支持物件之行為，使物件能接受訊息、進行運算並輸出結果"
   ]
  },
  {
   "cell_type": "code",
   "execution_count": 3,
   "metadata": {},
   "outputs": [
    {
     "name": "stdout",
     "output_type": "stream",
     "text": [
      "750 2.6\n"
     ]
    }
   ],
   "source": [
    "class Tree:                       #父類別\n",
    "    def __init__(self,v,a,h):\n",
    "        self.variety=v\n",
    "        self.age=a\n",
    "        self.height=h\n",
    "class FruitTree(Tree):            #子類別:多month、price\n",
    "    def __init__(self,v,a,h,m,p):\n",
    "        self.variety=v\n",
    "        self.age=a\n",
    "        self.height=h\n",
    "        self.month=m\n",
    "        self.price=p\n",
    "    def computeAmount(self,weight):  #加入函數\n",
    "        return weight*self.price\n",
    "    def inquireHeight(self):\n",
    "        return self.height\n",
    "    def SetHeight(self,h):\n",
    "        self.height=h\n",
    "    def SetPrice(self,p):\n",
    "        self.price=p\n",
    "x=FruitTree(\"peach\",8,2.1,3,20)\n",
    "x.SetPrice(30)   #物件.訊息\n",
    "x.SetHeight(2.6)\n",
    "amount=x.computeAmount(25)\n",
    "height=x.inquireHeight()\n",
    "print(amount,height)"
   ]
  },
  {
   "cell_type": "markdown",
   "metadata": {},
   "source": [
    "繼承：\n",
    "子類別繼承父類別之資料及函數，其中繼承資料是繼承資料成員的定義不是值"
   ]
  },
  {
   "cell_type": "code",
   "execution_count": 4,
   "metadata": {},
   "outputs": [
    {
     "name": "stdout",
     "output_type": "stream",
     "text": [
      "Name: Alvin , Age: 32\n",
      "Name: Tom , Age: 36\n",
      "StudNo:  11138\n"
     ]
    }
   ],
   "source": [
    "class Person:\n",
    "    def __init__(self, na, a):\n",
    "          self.name = na\n",
    "          self.age = a\n",
    "\n",
    "    def birthYear(self):\n",
    "        return 2019 - self.age\n",
    "\n",
    "    def display(self):\n",
    "         print(\"Name:\", self.name, \", Age:\", self.age)\n",
    "\n",
    "#--------------------------------------------------------\n",
    "class Teacher(Person):\n",
    "    def __init__(self, na, a, sa):\n",
    "         super().__init__(na, a)   #呼叫父類別的建構式\n",
    "         self.salary = sa\n",
    "\n",
    "    def pr(self):\n",
    "         super().display()  #呼叫父類別的display()函數\n",
    "         print(\"Salary:\", self.salary)\n",
    "#--------------------------------------------------------\n",
    "class Student(Person):\n",
    "        def __init__(self, na, a, no):\n",
    "           super().__init__(na, a)\n",
    "           self.student_number = no\n",
    "        def pr(self):\n",
    "           super().display();\n",
    "           print(\"StudNo: \", self.student_number)\n",
    "#--------------------------------------------------------\n",
    "x = Person(\"Alvin\", 32)\n",
    "y = Student(\"Tom\", 36, 11138)\n",
    "x.display()\n",
    "y.pr()\n"
   ]
  },
  {
   "cell_type": "code",
   "execution_count": 5,
   "metadata": {},
   "outputs": [
    {
     "name": "stdout",
     "output_type": "stream",
     "text": [
      "Jim's Bonus: 400.0\n",
      "Tom's Bonus: 1360.0\n"
     ]
    }
   ],
   "source": [
    "#子類別函數的覆寫\n",
    "class SalesPerson:\n",
    "    def __init__(self, t):\n",
    "        self.totalSales = t\n",
    "\n",
    "    def bonus(self):\n",
    "        return self.totalSales * 0.008\n",
    "#--------------------------------------------\n",
    "class SalesManager(SalesPerson):\n",
    "    def\t__init__(self, t):\n",
    "        super().__init__(t)\n",
    "\n",
    "    def bonus(self):  #與父類別函數名稱相同\n",
    "        return self.totalSales * 0.008 + 1000\n",
    "#--------------------------------------------\n",
    "Jim = SalesPerson(50000)\n",
    "print(\"Jim's Bonus:\", Jim.bonus())\n",
    "Tom = SalesManager(45000)\n",
    "print(\"Tom's Bonus:\", Tom.bonus())"
   ]
  },
  {
   "cell_type": "code",
   "execution_count": 6,
   "metadata": {},
   "outputs": [
    {
     "name": "stdout",
     "output_type": "stream",
     "text": [
      "Amount is: 100\n"
     ]
    }
   ],
   "source": [
    "#self:類別中參考引數，永遠參考到目前物件\n",
    "class Fee:\n",
    "    def __init__(self, amt):\n",
    "        self.amount = amt\n",
    "    def disp(self):\n",
    "        print(\"Amount is:\", self.amount)\n",
    "#-----------------------\n",
    "a = Fee(100)\n",
    "a.disp()\n",
    "#disp()函數裡的self參考到物件a，也就是self與a參考到同一物件"
   ]
  },
  {
   "cell_type": "code",
   "execution_count": 7,
   "metadata": {},
   "outputs": [
    {
     "name": "stdout",
     "output_type": "stream",
     "text": [
      "Balance is: 480\n"
     ]
    }
   ],
   "source": [
    "class Money:\n",
    "        \n",
    "    def __init__(self, amt):\n",
    "        self.balance = amt\n",
    "    def add(self, saving):\n",
    "        self.balance += saving\n",
    "    def Display(self):\n",
    "        print(\"Balance is:\", self.balance)\n",
    "#------------------------------------------\n",
    "orange = Money(100)\n",
    "orange.add(300)\n",
    "orange.add(80)\n",
    "orange.Display()"
   ]
  },
  {
   "cell_type": "code",
   "execution_count": 8,
   "metadata": {},
   "outputs": [
    {
     "name": "stdout",
     "output_type": "stream",
     "text": [
      "Balance is: 480\n"
     ]
    }
   ],
   "source": [
    "class Money:\n",
    "        \n",
    "    def __init__(self, amt):\n",
    "        self.balance = amt\n",
    "    def add(self, saving):\n",
    "        self.balance += saving\n",
    "        return self  #加入\n",
    "    def Display(self):\n",
    "        print(\"Balance is:\", self.balance)\n",
    "#--------------------------------------------\n",
    "orange = Money(100)\n",
    "orange.add(300).add(80)\n",
    "orange.Display()\n",
    "#orange.add(300).add(80).Display()"
   ]
  },
  {
   "cell_type": "code",
   "execution_count": 9,
   "metadata": {},
   "outputs": [
    {
     "name": "stdout",
     "output_type": "stream",
     "text": [
      "Balance is: 480\n"
     ]
    }
   ],
   "source": [
    "#函數傳回新物件之參考值，但此物件不是目前物件\n",
    "class Money:\n",
    "        \n",
    "    def __init__(self, amt):\n",
    "        self.balance = amt\n",
    "        \n",
    "    def add(self, saving):\n",
    "        newObj = Money(self.balance + saving)\n",
    "        return newObj\n",
    "    \n",
    "    def Display(self):\n",
    "        print(\"Balance is:\", self.balance)\n",
    "#----------------------------------------------------\n",
    "\n",
    "orange = Money(100)\n",
    "orange.add(300).add(80).Display()  #每執行一次add()就產生一份新物件"
   ]
  },
  {
   "cell_type": "code",
   "execution_count": 10,
   "metadata": {},
   "outputs": [
    {
     "name": "stdout",
     "output_type": "stream",
     "text": [
      "Balance is: 100\n",
      "Balance is: 400\n",
      "Balance is: 480\n"
     ]
    },
    {
     "data": {
      "text/plain": [
       "<__main__.Money at 0x18b305de8d0>"
      ]
     },
     "execution_count": 10,
     "metadata": {},
     "output_type": "execute_result"
    }
   ],
   "source": [
    "class Money:\n",
    "        \n",
    "    def __init__(self, amt):\n",
    "        self.balance = amt\n",
    "        \n",
    "    def add(self, saving):\n",
    "        newObj = Money(self.balance + saving)\n",
    "        return newObj\n",
    "    \n",
    "    def Display(self):\n",
    "        print(\"Balance is:\", self.balance)\n",
    "        return self;  #加入\n",
    "#---------------------------------------------------\n",
    "\n",
    "orange = Money(100)\n",
    "orange.Display().add(300).Display().add(80).Display()"
   ]
  },
  {
   "cell_type": "markdown",
   "metadata": {},
   "source": [
    "物件的包含關係就是表達整體/部分之間的關係，例如:燈泡含燈心、燈帽及玻璃球，有共生共滅的關係"
   ]
  },
  {
   "cell_type": "code",
   "execution_count": 11,
   "metadata": {},
   "outputs": [
    {
     "name": "stdout",
     "output_type": "stream",
     "text": [
      "Container.size: 31.25\n"
     ]
    }
   ],
   "source": [
    "#Container物件參考到Desk物件\n",
    "class Container:\n",
    "    child = None\n",
    "    rSize = 0\n",
    "        \n",
    "    def setter(self, d_ref):\n",
    "        self.child = d_ref\n",
    "        self.rSize = self.child.getSize() * 2.5\n",
    "    def getSize(self):\n",
    "        return self.rSize\n",
    "#-------------------------------\n",
    "class Desk:\n",
    "    dSize = 0        \n",
    "    def __init__(self):\n",
    "        self.dSize = 12.5\n",
    "    def getSize(self):\n",
    "        return self.dSize\n",
    "#-------------------------------\n",
    "\n",
    "aDesk = Desk()\n",
    "aContainer = Container()\n",
    "aContainer.setter(aDesk)  #aContainer裡的child指向aDesk物件\n",
    "print(\"Container.size:\", aContainer.getSize())"
   ]
  },
  {
   "cell_type": "markdown",
   "metadata": {},
   "source": [
    "包含異質性物件，例如:棒球隊，包含教練、經理、球員，球員可以是一個集合物件，程式裡可以用Array、Dictionary來表達集合物件"
   ]
  },
  {
   "cell_type": "code",
   "execution_count": 12,
   "metadata": {},
   "outputs": [
    {
     "name": "stdout",
     "output_type": "stream",
     "text": [
      "Manager:  James Lin\n",
      "Coach:  David Wang\n",
      "\n",
      "Players: \n",
      "   Jim Lin\n",
      "   Alvin Kao\n",
      "   John Coppin\n"
     ]
    }
   ],
   "source": [
    "class Person:\n",
    "    pname = None\n",
    "    def getName(self):\n",
    "        return self.pname;\n",
    "    def setName(self, value):\n",
    "        self.pname = value\n",
    "#--------------------------------------------    \n",
    "class Baseball_team:\n",
    "    manager = None\n",
    "    coach = None\n",
    "    players = []  #球員利用陣列\n",
    " \n",
    "    def __init__(self):\n",
    "        self.manager = Person()\n",
    "        self.coach = Person()\n",
    "        self.idx = 0\n",
    "\n",
    "    def setManager(self, m):\n",
    "        self.manager.setName(m)\n",
    "     \n",
    "    def setCoach(self, c):\n",
    "         self.coach.setName(c)\n",
    "\n",
    "    def addPlayer(self, name):\n",
    "         p = Person()\n",
    "         p.setName(name)\n",
    "         self.players.append(p)\n",
    "         self.idx += 1\n",
    "          \n",
    "    def display(self):\n",
    "         print(\"Manager: \", self.manager.getName())\n",
    "         print(\"Coach: \", self.coach.getName())\n",
    "         print(\"\")\n",
    "         print(\"Players: \")\n",
    "         for i in range(0, self.idx , 1):\n",
    "             print(\"  \", self.players[i].getName())\n",
    "#----------------------------------------------------\n",
    "\n",
    "RedSock = Baseball_team()\n",
    "RedSock.setManager(\"James Lin\");\n",
    "RedSock.setCoach(\"David Wang\");\n",
    "RedSock.addPlayer(\"Jim Lin\");\n",
    "RedSock.addPlayer(\"Alvin Kao\");\n",
    "RedSock.addPlayer(\"John Coppin\");\n",
    "RedSock.display();"
   ]
  },
  {
   "cell_type": "markdown",
   "metadata": {},
   "source": [
    "類別的封裝性:將資料及函數組織並封裝起來，且只能使用特定方式使用，目的讓物件更容易使用"
   ]
  },
  {
   "cell_type": "code",
   "execution_count": 13,
   "metadata": {},
   "outputs": [
    {
     "name": "stdout",
     "output_type": "stream",
     "text": [
      "height=  2.1 公尺\n"
     ]
    }
   ],
   "source": [
    "class Tree:\n",
    "      def __init__(self):\n",
    "          self.variety = None\n",
    "          self.age = None\n",
    "            \n",
    "      def input(self, hei):   #類別之專屬函數\n",
    "          self.height = hei\n",
    "\n",
    "      def inquireHeight(self):  #類別之專屬函數\n",
    "          return self.height\n",
    "        \n",
    "#-------------------------\n",
    "a = Tree()\n",
    "a.input(2.1)\n",
    "h = a.inquireHeight()     #  h = inquireHeight() 無法使用\n",
    "print(\"height= \", h, \"公尺\")"
   ]
  },
  {
   "cell_type": "code",
   "execution_count": 14,
   "metadata": {},
   "outputs": [
    {
     "name": "stdout",
     "output_type": "stream",
     "text": [
      "height=  2.1 公尺\n"
     ]
    }
   ],
   "source": [
    "#物件也有保護類別中資料，不受外界影響的效果\n",
    "class Tree:\n",
    "      def __init__(self):\n",
    "          self.variety = None\n",
    "          self.age = None\n",
    "          self.height = None\n",
    "      \n",
    "#-------------------------\n",
    "a = Tree()\n",
    "a.height = 2.1   # height = 2.1 會讓結果是None\n",
    "print(\"height= \", a.height, \"公尺\")\n",
    "#能在主程式裡改變值，較寬鬆的保護情形"
   ]
  },
  {
   "cell_type": "code",
   "execution_count": 15,
   "metadata": {},
   "outputs": [
    {
     "ename": "AttributeError",
     "evalue": "'Tree' object has no attribute '__height'",
     "output_type": "error",
     "traceback": [
      "\u001b[1;31m---------------------------------------------------------------------------\u001b[0m",
      "\u001b[1;31mAttributeError\u001b[0m                            Traceback (most recent call last)",
      "\u001b[1;32m<ipython-input-15-82de41fcc0a7>\u001b[0m in \u001b[0;36m<module>\u001b[1;34m\u001b[0m\n\u001b[0;32m      8\u001b[0m \u001b[1;31m#-------------------------\u001b[0m\u001b[1;33m\u001b[0m\u001b[1;33m\u001b[0m\u001b[1;33m\u001b[0m\u001b[0m\n\u001b[0;32m      9\u001b[0m \u001b[0ma\u001b[0m \u001b[1;33m=\u001b[0m \u001b[0mTree\u001b[0m\u001b[1;33m(\u001b[0m\u001b[1;33m)\u001b[0m\u001b[1;33m\u001b[0m\u001b[1;33m\u001b[0m\u001b[0m\n\u001b[1;32m---> 10\u001b[1;33m \u001b[0mprint\u001b[0m\u001b[1;33m(\u001b[0m\u001b[1;34m\"height= \"\u001b[0m\u001b[1;33m,\u001b[0m \u001b[0ma\u001b[0m\u001b[1;33m.\u001b[0m\u001b[0m__height\u001b[0m\u001b[1;33m,\u001b[0m \u001b[1;34m\"公尺\"\u001b[0m\u001b[1;33m)\u001b[0m\u001b[1;33m\u001b[0m\u001b[1;33m\u001b[0m\u001b[0m\n\u001b[0m",
      "\u001b[1;31mAttributeError\u001b[0m: 'Tree' object has no attribute '__height'"
     ]
    }
   ],
   "source": [
    "#私有成員，較嚴密的保護措施，表示此類別外之函數絕無法直接存取資料，只有函數才能存取資料\n",
    "class Tree:\n",
    "      def __init__(self):\n",
    "          self.variety = None\n",
    "          self.age = None\n",
    "          self.__height = 2.1\n",
    "      \n",
    "#-------------------------\n",
    "a = Tree()\n",
    "print(\"height= \", a.__height, \"公尺\")"
   ]
  },
  {
   "cell_type": "code",
   "execution_count": 16,
   "metadata": {},
   "outputs": [
    {
     "name": "stdout",
     "output_type": "stream",
     "text": [
      "height=  12.6 公尺\n"
     ]
    }
   ],
   "source": [
    "class Tree:\n",
    "      def __init__(self):\n",
    "          self.variety = None\n",
    "          self.age = None\n",
    "          self.__height = 2.1\n",
    "\n",
    "      def input(self, hei):\n",
    "          self.__height = hei\n",
    "      def disp(self):\n",
    "          print(\"height= \", self.__height, \"公尺\")\n",
    "      \n",
    "#-------------------------\n",
    "a = Tree()\n",
    "a.input(12.6)\n",
    "a.disp()"
   ]
  },
  {
   "cell_type": "code",
   "execution_count": 17,
   "metadata": {},
   "outputs": [
    {
     "ename": "AttributeError",
     "evalue": "'Tree' object has no attribute '__input'",
     "output_type": "error",
     "traceback": [
      "\u001b[1;31m---------------------------------------------------------------------------\u001b[0m",
      "\u001b[1;31mAttributeError\u001b[0m                            Traceback (most recent call last)",
      "\u001b[1;32m<ipython-input-17-083e58013a95>\u001b[0m in \u001b[0;36m<module>\u001b[1;34m\u001b[0m\n\u001b[0;32m     13\u001b[0m \u001b[1;31m#-------------------------\u001b[0m\u001b[1;33m\u001b[0m\u001b[1;33m\u001b[0m\u001b[1;33m\u001b[0m\u001b[0m\n\u001b[0;32m     14\u001b[0m \u001b[0ma\u001b[0m \u001b[1;33m=\u001b[0m \u001b[0mTree\u001b[0m\u001b[1;33m(\u001b[0m\u001b[1;33m)\u001b[0m\u001b[1;33m\u001b[0m\u001b[1;33m\u001b[0m\u001b[0m\n\u001b[1;32m---> 15\u001b[1;33m \u001b[0ma\u001b[0m\u001b[1;33m.\u001b[0m\u001b[0m__input\u001b[0m\u001b[1;33m(\u001b[0m\u001b[1;36m2.1\u001b[0m\u001b[1;33m)\u001b[0m   \u001b[1;31m#類別外指令無法呼叫\u001b[0m\u001b[1;33m\u001b[0m\u001b[1;33m\u001b[0m\u001b[0m\n\u001b[0m\u001b[0;32m     16\u001b[0m \u001b[0ma\u001b[0m\u001b[1;33m.\u001b[0m\u001b[0mdisp\u001b[0m\u001b[1;33m(\u001b[0m\u001b[1;33m)\u001b[0m\u001b[1;33m\u001b[0m\u001b[1;33m\u001b[0m\u001b[0m\n",
      "\u001b[1;31mAttributeError\u001b[0m: 'Tree' object has no attribute '__input'"
     ]
    }
   ],
   "source": [
    "#私有性函數\n",
    "class Tree:\n",
    "      def __init__(self):\n",
    "          self.variety = None\n",
    "          self.age = None\n",
    "          self.__height = 2.1\n",
    "\n",
    "      def __input(self, hei):  #改這個\n",
    "          self.__height = hei\n",
    "      def disp(self):\n",
    "          print(\"height= \", self.__height, \"公尺\")\n",
    "      \n",
    "#-------------------------\n",
    "a = Tree()\n",
    "a.__input(2.1)   #類別外指令無法呼叫\n",
    "a.disp()"
   ]
  },
  {
   "cell_type": "code",
   "execution_count": 18,
   "metadata": {},
   "outputs": [
    {
     "name": "stdout",
     "output_type": "stream",
     "text": [
      "peach 8 2.1\n",
      "pineapple 2 0.5\n"
     ]
    }
   ],
   "source": [
    "class Tree:\n",
    "      def input(self, v, a, hei):\n",
    "          self.__variety = v\n",
    "          self.__age = a\n",
    "          self.__height = hei\n",
    "          \n",
    "      def Show(self):\n",
    "          print(self.__variety, self.__age, self.__height)\n",
    "      \n",
    "#-------------------------\n",
    "a = Tree()\n",
    "b = Tree()\n",
    "a.input(\"peach\", 8, 2.1)\n",
    "b.input(\"pineapple\", 2, 0.5)\n",
    "a.Show()\n",
    "b.Show()"
   ]
  },
  {
   "cell_type": "code",
   "execution_count": 19,
   "metadata": {},
   "outputs": [
    {
     "name": "stdout",
     "output_type": "stream",
     "text": [
      "Name: Peter , Salary: 7777.25\n"
     ]
    }
   ],
   "source": [
    "#類別層級的資料，又稱共享的資料，就是同一類別裡各物件所能共用的資料，這樣的類別層級的變數封裝在類別裡，但在物件之外\n",
    "class Employee:\n",
    "     temp = 0;  #temp是共享資料\n",
    "     \n",
    "     def __init__(self, na, sa):\n",
    "          self.emp_name = na\n",
    "          self.salary = sa\n",
    "\n",
    "     def save_to_temp(self):\n",
    "         Employee.temp = self.salary\n",
    "\n",
    "     def load_from_temp(self):\n",
    "         self.salary = Employee.temp\n",
    "       \n",
    "     def Display(self):\n",
    "          print(\"Name:\", self.emp_name, \", Salary:\", self.salary)\n",
    "          \n",
    "#--------------------------------------------------------------\n",
    "tom = Employee(\"Tom\", 7777.25)\n",
    "peter = Employee(\"Peter\", 1643.5)\n",
    "tom.save_to_temp()\n",
    "peter.load_from_temp()\n",
    "peter.Display()"
   ]
  },
  {
   "cell_type": "code",
   "execution_count": 20,
   "metadata": {},
   "outputs": [
    {
     "name": "stdout",
     "output_type": "stream",
     "text": [
      "Name: Tom , Salary: 25000.0\n",
      "Name: Lily , Salary: 20000.0\n",
      "The number of employee: 2\n",
      "Average salary: 22500.0\n"
     ]
    }
   ],
   "source": [
    "#共享資料也能用來記載類別的狀況，例如紀錄該類別共誕生了多少物件\n",
    "class Employee:\n",
    "     counter = 0;   #紀錄類別中含有多少物件\n",
    "     sum = 0        #儲存各物件salary值之總和\n",
    "\n",
    "     def __init__(self, na, sa):\n",
    "          self.emp_name = na\n",
    "          self.salary = sa\n",
    "          Employee.counter += 1\n",
    "          Employee.sum += self.salary \n",
    "\n",
    "     def Display_Avg(self):\n",
    "         print(\"The number of employee:\", Employee.counter)\n",
    "         print(\"Average salary:\", Employee.sum / Employee.counter)\n",
    "         \n",
    "       \n",
    "     def Display(self):\n",
    "          print(\"Name:\", self.emp_name, \", Salary:\", self.salary)\n",
    "          \n",
    "#--------------------------------------------------------------\n",
    "e1 = Employee(\"Tom\", 25000.0)\n",
    "e2 = Employee(\"Lily\", 20000.0)\n",
    "e1.Display()\n",
    "e2.Display()\n",
    "e1.Display_Avg()"
   ]
  },
  {
   "cell_type": "code",
   "execution_count": 21,
   "metadata": {},
   "outputs": [
    {
     "name": "stdout",
     "output_type": "stream",
     "text": [
      "Number of Employee: 2\n",
      "Average salary: 22500.0\n"
     ]
    }
   ],
   "source": [
    "#類別層級的函數，不能取用物件內的資料值，只能存取共享資料之值，且共享函數只能呼叫共享函數，不能呼叫一般函數，但一般函數可以呼叫共享函數\n",
    "class Employee:\n",
    "     counter = 0;\n",
    "     sum = 0\n",
    "\n",
    "     @classmethod\n",
    "     def NumberOfObject(cls):\n",
    "          return cls.counter\n",
    "\n",
    "     @classmethod                                         #共享函數不能取用物件內的資料值，只能存取共享資料之值\n",
    "     def Average(cls):\n",
    "          return cls.sum / cls.counter\n",
    "\n",
    "     @classmethod                                          #共享函數只能呼叫共享函數，不能呼叫一般函數\n",
    "     def Display_Avg(cls):\n",
    "         print(\"Average salary:\", cls.Average())\n",
    "\n",
    "     def __init__(self, na, sa):\n",
    "          self.emp_name = na\n",
    "          self.salary = sa\n",
    "          Employee.counter += 1\n",
    "          Employee.sum += self.salary\n",
    "          \n",
    "     def display(self):\n",
    "         print(\"Number of Employee:\", Employee.NumberOfObject())   #一般函數可以呼叫共享函數\n",
    "\n",
    "#--------------------------------------------------------------\n",
    "e = Employee(\"Tom\", 25000.0)\n",
    "e = Employee(\"Lily\", 20000.0)\n",
    "e.display()\n",
    "Employee.Display_Avg()  #類別.共享函數"
   ]
  },
  {
   "cell_type": "markdown",
   "metadata": {},
   "source": [
    "多形性:同種生物，即同類別之間，外表及行為皆有所差異，例如:銷售部門類別中，銷售經理及推銷工程師所得到的紅利不同(行為不同)"
   ]
  },
  {
   "cell_type": "code",
   "execution_count": 22,
   "metadata": {},
   "outputs": [
    {
     "name": "stdout",
     "output_type": "stream",
     "text": [
      "2160.0\n",
      "1140.0\n",
      "1220.0\n"
     ]
    }
   ],
   "source": [
    "#函數覆寫的觀念創造多形性物件\n",
    "class SalesPerson:\n",
    "   def __init__(self, a):\n",
    "         self.total_amount = a\n",
    "   def bonus(self):\n",
    "      return self.total_amount * 0.008\n",
    "\n",
    "class SalesEngineer(SalesPerson):\n",
    "   def bonus(self):                          #函數覆寫\n",
    "      return super().bonus() + 500\n",
    "\n",
    "class SalesManager(SalesPerson):\n",
    "    def bonus(self):                         #函數覆寫\n",
    "      return super().bonus() + 2000\n",
    "\n",
    "#-------------------------------------------\n",
    "p = []\n",
    "peter = SalesManager(20000)\n",
    "alvin = SalesEngineer(80000)\n",
    "lily = SalesEngineer(90000)\n",
    "p.append(peter)\n",
    "p.append(alvin)\n",
    "p.append(lily)\n",
    "for i in range(0, 3 , 1):\n",
    "    print(p[i].bonus())"
   ]
  }
 ],
 "metadata": {
  "kernelspec": {
   "display_name": "Python 3",
   "language": "python",
   "name": "python3"
  },
  "language_info": {
   "codemirror_mode": {
    "name": "ipython",
    "version": 3
   },
   "file_extension": ".py",
   "mimetype": "text/x-python",
   "name": "python",
   "nbconvert_exporter": "python",
   "pygments_lexer": "ipython3",
   "version": "3.6.8"
  }
 },
 "nbformat": 4,
 "nbformat_minor": 2
}
