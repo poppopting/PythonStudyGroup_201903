{
 "cells": [
  {
   "cell_type": "code",
   "execution_count": 1,
   "metadata": {},
   "outputs": [],
   "source": [
    "from PIL import Image"
   ]
  },
  {
   "cell_type": "code",
   "execution_count": 2,
   "metadata": {},
   "outputs": [],
   "source": [
    "# 創建字符集\n",
    "ascii_char = list(\"$@B%8&WM#*oahkbdpqwmZO0QLCJUYXzcvunxrjft/\\|()1{}[]?-_+~<>i!lI;:,\\\"^`'. \")"
   ]
  },
  {
   "cell_type": "code",
   "execution_count": 5,
   "metadata": {},
   "outputs": [],
   "source": [
    "# 將256灰度映射到70個字符上\n",
    "def get_char(r,g,b,alpha = 1):\n",
    "\n",
    "# 判斷alpha值，若透明則空白\n",
    "    if alpha == 0:\n",
    "        return ' '\n",
    "\n",
    "# 取字符集的長度\n",
    "    length = len(ascii_char)\n",
    "\n",
    "# 將RGB值轉為gray，灰度值範圍為 0-255\n",
    "    gray = int(0.2126 * r + 0.7152 * g + 0.0722 * b)\n",
    "\n",
    "# 每個字符對應的gray值區間寬度\n",
    "    unit = 256.0/length\n",
    "\n",
    "# 返回灰度值對應的字符\n",
    "    return ascii_char[int(gray/unit)]"
   ]
  },
  {
   "cell_type": "code",
   "execution_count": null,
   "metadata": {},
   "outputs": [],
   "source": [
    "im = Image.open('dora.png')\n",
    "# 將圖片轉為合適大小\n",
    "width = 100\n",
    "ratio = float(width)/im.size[0]\n",
    "height = int(im.size[1]*ratio)\n",
    "nim = im.resize( (width, height), Image.BILINEAR )\n",
    "# resize() 接受兩個參數，第一個用來指定變更後的大小；第二個參數可以省略，是用來指定變更時使用的內插法\n",
    "\n",
    "# 給字符串一個起始值\n",
    "txt = \"\"\n",
    "\n",
    "for i in range(nim.height):\n",
    "    for j in range(nim.width):\n",
    "# im.getpixel((j,i)) 获取得到坐标 (j,i) 位置的 RGB 像素值，返回的结果是一个元组，例如 (1,2,3) 或者 (1,2,3,0)。我们使用 * 可以将元组作为参数传递给 get_char\n",
    "        txt += get_char(*nim.getpixel((j,i)))\n",
    "    txt += '\\n'\n",
    "\n",
    "print(txt)"
   ]
  },
  {
   "cell_type": "code",
   "execution_count": null,
   "metadata": {},
   "outputs": [],
   "source": [
    "im = Image.open('dora.png')"
   ]
  },
  {
   "cell_type": "code",
   "execution_count": 8,
   "metadata": {},
   "outputs": [],
   "source": [
    "    width = 400\n",
    "    ratio = float(width)/im.size[0]\n",
    "    height = int(im.size[1]*ratio)\n",
    "    nim = im.resize( (width, height), Image.BILINEAR )"
   ]
  }
 ],
 "metadata": {
  "kernelspec": {
   "display_name": "Python 3",
   "language": "python",
   "name": "python3"
  },
  "language_info": {
   "codemirror_mode": {
    "name": "ipython",
    "version": 3
   },
   "file_extension": ".py",
   "mimetype": "text/x-python",
   "name": "python",
   "nbconvert_exporter": "python",
   "pygments_lexer": "ipython3",
   "version": "3.6.8"
  }
 },
 "nbformat": 4,
 "nbformat_minor": 2
}
