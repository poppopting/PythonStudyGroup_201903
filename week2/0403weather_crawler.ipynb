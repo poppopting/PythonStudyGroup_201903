{
 "cells": [
  {
   "cell_type": "code",
   "execution_count": null,
   "metadata": {},
   "outputs": [],
   "source": [
    "import urllib.request\n",
    "import os\n",
    "import json\n",
    "import pandas as pd\n",
    "import datetime\n",
    "import numpy as np\n",
    "pd.options.display.max_columns = None\n",
    "pd.options.display.max_rows = 300\n",
    "pd.options.display.max_info_rows = None"
   ]
  },
  {
   "cell_type": "code",
   "execution_count": null,
   "metadata": {},
   "outputs": [],
   "source": [
    "file_path=r'C:\\isvms'  #你的path\n",
    "\n",
    "cwb_data = \"cwb_weather_data\"  #你的folder name\n",
    "\n",
    "if not os.path.exists(file_path+'\\\\'+cwb_data):\n",
    "    os.mkdir(file_path+'\\\\'+cwb_data)"
   ]
  },
  {
   "cell_type": "code",
   "execution_count": null,
   "metadata": {},
   "outputs": [],
   "source": [
    "url='https://opendata.cwb.gov.tw/fileapi/v1/opendataapi/{dataid}?Authorization={apikey}&format={formatt}'\n",
    "dataid='O-A0001-001'\n",
    "apikey='CWB-D931EFB8-3C85-4845-869E-665B13359FC6'\n",
    "formatt='json'\n",
    "link=url.format(dataid=dataid,apikey=apikey,formatt=formatt)\n",
    "#link\n",
    "data_path=file_path+'\\\\'+cwb_data+'\\\\'+dataid+'.'+formatt\n",
    "data_path"
   ]
  },
  {
   "cell_type": "code",
   "execution_count": null,
   "metadata": {},
   "outputs": [],
   "source": [
    "url='https://opendata.cwb.gov.tw/fileapi/v1/opendataapi/{dataid}?Authorization={apikey}&format={formatt}'\n",
    "dataid='O-A0001-001'\n",
    "apikey='CWB-D931EFB8-3C85-4845-869E-665B13359FC6'\n",
    "formatt='json'\n",
    "link=url.format(dataid=dataid,apikey=apikey,formatt=formatt)\n",
    "#link\n",
    "data_path=file_path+'\\\\'+cwb_data+'\\\\'+dataid+'.'+formatt\n",
    "\n",
    "def auto_down(url,filename):\n",
    "    try:\n",
    "        urllib.request.urlretrieve(url,filename)\n",
    "    except :\n",
    "        print('Download error!!! Reloading now.')\n",
    "        auto_down(url,filename)\n",
    "\n",
    "\n",
    "auto_down(link,data_path)\n"
   ]
  },
  {
   "cell_type": "code",
   "execution_count": null,
   "metadata": {},
   "outputs": [],
   "source": [
    "with open(data_path,'r',encoding='utf-8-sig') as file:\n",
    "    api=json.load(file)"
   ]
  }
 ],
 "metadata": {
  "kernelspec": {
   "display_name": "Python 3",
   "language": "python",
   "name": "python3"
  },
  "language_info": {
   "codemirror_mode": {
    "name": "ipython",
    "version": 3
   },
   "file_extension": ".py",
   "mimetype": "text/x-python",
   "name": "python",
   "nbconvert_exporter": "python",
   "pygments_lexer": "ipython3",
   "version": "3.6.5"
  }
 },
 "nbformat": 4,
 "nbformat_minor": 2
}
